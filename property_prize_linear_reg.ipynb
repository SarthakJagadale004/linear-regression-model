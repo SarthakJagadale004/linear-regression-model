{
 "cells": [
  {
   "cell_type": "code",
   "execution_count": 161,
   "id": "34d95449-7057-464e-a148-64e4c264bdfb",
   "metadata": {},
   "outputs": [],
   "source": [
    "import pandas as pd\n",
    "import numpy as np"
   ]
  },
  {
   "cell_type": "code",
   "execution_count": 163,
   "id": "45b1716a-7332-4e0d-b90e-59ad0d17e1a2",
   "metadata": {},
   "outputs": [
    {
     "data": {
      "text/html": [
       "<div>\n",
       "<style scoped>\n",
       "    .dataframe tbody tr th:only-of-type {\n",
       "        vertical-align: middle;\n",
       "    }\n",
       "\n",
       "    .dataframe tbody tr th {\n",
       "        vertical-align: top;\n",
       "    }\n",
       "\n",
       "    .dataframe thead th {\n",
       "        text-align: right;\n",
       "    }\n",
       "</style>\n",
       "<table border=\"1\" class=\"dataframe\">\n",
       "  <thead>\n",
       "    <tr style=\"text-align: right;\">\n",
       "      <th></th>\n",
       "      <th>Id</th>\n",
       "      <th>Building_Class</th>\n",
       "      <th>Zoning_Class</th>\n",
       "      <th>Lot_Extent</th>\n",
       "      <th>Lot_Size</th>\n",
       "      <th>Road_Type</th>\n",
       "      <th>Lane_Type</th>\n",
       "      <th>Property_Shape</th>\n",
       "      <th>Land_Outline</th>\n",
       "      <th>Utility_Type</th>\n",
       "      <th>...</th>\n",
       "      <th>Pool_Area</th>\n",
       "      <th>Pool_Quality</th>\n",
       "      <th>Fence_Quality</th>\n",
       "      <th>Miscellaneous_Feature</th>\n",
       "      <th>Miscellaneous_Value</th>\n",
       "      <th>Month_Sold</th>\n",
       "      <th>Year_Sold</th>\n",
       "      <th>Sale_Type</th>\n",
       "      <th>Sale_Condition</th>\n",
       "      <th>Sale_Price</th>\n",
       "    </tr>\n",
       "  </thead>\n",
       "  <tbody>\n",
       "    <tr>\n",
       "      <th>0</th>\n",
       "      <td>1</td>\n",
       "      <td>60</td>\n",
       "      <td>RLD</td>\n",
       "      <td>65.0</td>\n",
       "      <td>8450</td>\n",
       "      <td>Paved</td>\n",
       "      <td>NaN</td>\n",
       "      <td>Reg</td>\n",
       "      <td>Lvl</td>\n",
       "      <td>AllPub</td>\n",
       "      <td>...</td>\n",
       "      <td>0</td>\n",
       "      <td>NaN</td>\n",
       "      <td>NaN</td>\n",
       "      <td>NaN</td>\n",
       "      <td>0</td>\n",
       "      <td>2</td>\n",
       "      <td>2008</td>\n",
       "      <td>WD</td>\n",
       "      <td>Normal</td>\n",
       "      <td>208500</td>\n",
       "    </tr>\n",
       "    <tr>\n",
       "      <th>1</th>\n",
       "      <td>2</td>\n",
       "      <td>20</td>\n",
       "      <td>RLD</td>\n",
       "      <td>80.0</td>\n",
       "      <td>9600</td>\n",
       "      <td>Paved</td>\n",
       "      <td>NaN</td>\n",
       "      <td>Reg</td>\n",
       "      <td>Lvl</td>\n",
       "      <td>AllPub</td>\n",
       "      <td>...</td>\n",
       "      <td>0</td>\n",
       "      <td>NaN</td>\n",
       "      <td>NaN</td>\n",
       "      <td>NaN</td>\n",
       "      <td>0</td>\n",
       "      <td>5</td>\n",
       "      <td>2007</td>\n",
       "      <td>WD</td>\n",
       "      <td>Normal</td>\n",
       "      <td>181500</td>\n",
       "    </tr>\n",
       "    <tr>\n",
       "      <th>2</th>\n",
       "      <td>3</td>\n",
       "      <td>60</td>\n",
       "      <td>RLD</td>\n",
       "      <td>68.0</td>\n",
       "      <td>11250</td>\n",
       "      <td>Paved</td>\n",
       "      <td>NaN</td>\n",
       "      <td>IR1</td>\n",
       "      <td>Lvl</td>\n",
       "      <td>AllPub</td>\n",
       "      <td>...</td>\n",
       "      <td>0</td>\n",
       "      <td>NaN</td>\n",
       "      <td>NaN</td>\n",
       "      <td>NaN</td>\n",
       "      <td>0</td>\n",
       "      <td>9</td>\n",
       "      <td>2008</td>\n",
       "      <td>WD</td>\n",
       "      <td>Normal</td>\n",
       "      <td>223500</td>\n",
       "    </tr>\n",
       "    <tr>\n",
       "      <th>3</th>\n",
       "      <td>4</td>\n",
       "      <td>70</td>\n",
       "      <td>RLD</td>\n",
       "      <td>60.0</td>\n",
       "      <td>9550</td>\n",
       "      <td>Paved</td>\n",
       "      <td>NaN</td>\n",
       "      <td>IR1</td>\n",
       "      <td>Lvl</td>\n",
       "      <td>AllPub</td>\n",
       "      <td>...</td>\n",
       "      <td>0</td>\n",
       "      <td>NaN</td>\n",
       "      <td>NaN</td>\n",
       "      <td>NaN</td>\n",
       "      <td>0</td>\n",
       "      <td>2</td>\n",
       "      <td>2006</td>\n",
       "      <td>WD</td>\n",
       "      <td>Abnorml</td>\n",
       "      <td>140000</td>\n",
       "    </tr>\n",
       "    <tr>\n",
       "      <th>4</th>\n",
       "      <td>5</td>\n",
       "      <td>60</td>\n",
       "      <td>RLD</td>\n",
       "      <td>84.0</td>\n",
       "      <td>14260</td>\n",
       "      <td>Paved</td>\n",
       "      <td>NaN</td>\n",
       "      <td>IR1</td>\n",
       "      <td>Lvl</td>\n",
       "      <td>AllPub</td>\n",
       "      <td>...</td>\n",
       "      <td>0</td>\n",
       "      <td>NaN</td>\n",
       "      <td>NaN</td>\n",
       "      <td>NaN</td>\n",
       "      <td>0</td>\n",
       "      <td>12</td>\n",
       "      <td>2008</td>\n",
       "      <td>WD</td>\n",
       "      <td>Normal</td>\n",
       "      <td>250000</td>\n",
       "    </tr>\n",
       "  </tbody>\n",
       "</table>\n",
       "<p>5 rows × 81 columns</p>\n",
       "</div>"
      ],
      "text/plain": [
       "   Id  Building_Class Zoning_Class  Lot_Extent  Lot_Size Road_Type Lane_Type  \\\n",
       "0   1              60          RLD        65.0      8450     Paved       NaN   \n",
       "1   2              20          RLD        80.0      9600     Paved       NaN   \n",
       "2   3              60          RLD        68.0     11250     Paved       NaN   \n",
       "3   4              70          RLD        60.0      9550     Paved       NaN   \n",
       "4   5              60          RLD        84.0     14260     Paved       NaN   \n",
       "\n",
       "  Property_Shape Land_Outline Utility_Type  ... Pool_Area Pool_Quality  \\\n",
       "0            Reg          Lvl       AllPub  ...         0          NaN   \n",
       "1            Reg          Lvl       AllPub  ...         0          NaN   \n",
       "2            IR1          Lvl       AllPub  ...         0          NaN   \n",
       "3            IR1          Lvl       AllPub  ...         0          NaN   \n",
       "4            IR1          Lvl       AllPub  ...         0          NaN   \n",
       "\n",
       "  Fence_Quality Miscellaneous_Feature Miscellaneous_Value Month_Sold  \\\n",
       "0           NaN                   NaN                   0          2   \n",
       "1           NaN                   NaN                   0          5   \n",
       "2           NaN                   NaN                   0          9   \n",
       "3           NaN                   NaN                   0          2   \n",
       "4           NaN                   NaN                   0         12   \n",
       "\n",
       "  Year_Sold  Sale_Type  Sale_Condition  Sale_Price  \n",
       "0      2008         WD          Normal      208500  \n",
       "1      2007         WD          Normal      181500  \n",
       "2      2008         WD          Normal      223500  \n",
       "3      2006         WD         Abnorml      140000  \n",
       "4      2008         WD          Normal      250000  \n",
       "\n",
       "[5 rows x 81 columns]"
      ]
     },
     "execution_count": 163,
     "metadata": {},
     "output_type": "execute_result"
    }
   ],
   "source": [
    "pp=pd.read_csv(r\"C:\\Users\\SARTHAK JAGADALE\\OneDrive\\Desktop\\pandas\\Property_Price_Train.csv\")\n",
    "pp.head()"
   ]
  },
  {
   "cell_type": "code",
   "execution_count": 165,
   "id": "711a7485-35f8-43eb-85bf-3e6756a9afa2",
   "metadata": {},
   "outputs": [
    {
     "data": {
      "text/html": [
       "<div>\n",
       "<style scoped>\n",
       "    .dataframe tbody tr th:only-of-type {\n",
       "        vertical-align: middle;\n",
       "    }\n",
       "\n",
       "    .dataframe tbody tr th {\n",
       "        vertical-align: top;\n",
       "    }\n",
       "\n",
       "    .dataframe thead th {\n",
       "        text-align: right;\n",
       "    }\n",
       "</style>\n",
       "<table border=\"1\" class=\"dataframe\">\n",
       "  <thead>\n",
       "    <tr style=\"text-align: right;\">\n",
       "      <th></th>\n",
       "      <th>Nullscount</th>\n",
       "    </tr>\n",
       "  </thead>\n",
       "  <tbody>\n",
       "    <tr>\n",
       "      <th>Lot_Extent</th>\n",
       "      <td>259</td>\n",
       "    </tr>\n",
       "    <tr>\n",
       "      <th>Lane_Type</th>\n",
       "      <td>1368</td>\n",
       "    </tr>\n",
       "    <tr>\n",
       "      <th>Brick_Veneer_Type</th>\n",
       "      <td>871</td>\n",
       "    </tr>\n",
       "    <tr>\n",
       "      <th>Brick_Veneer_Area</th>\n",
       "      <td>8</td>\n",
       "    </tr>\n",
       "    <tr>\n",
       "      <th>Basement_Height</th>\n",
       "      <td>37</td>\n",
       "    </tr>\n",
       "    <tr>\n",
       "      <th>Basement_Condition</th>\n",
       "      <td>37</td>\n",
       "    </tr>\n",
       "    <tr>\n",
       "      <th>Exposure_Level</th>\n",
       "      <td>38</td>\n",
       "    </tr>\n",
       "    <tr>\n",
       "      <th>BsmtFinType1</th>\n",
       "      <td>37</td>\n",
       "    </tr>\n",
       "    <tr>\n",
       "      <th>BsmtFinType2</th>\n",
       "      <td>38</td>\n",
       "    </tr>\n",
       "    <tr>\n",
       "      <th>Electrical_System</th>\n",
       "      <td>1</td>\n",
       "    </tr>\n",
       "    <tr>\n",
       "      <th>Fireplace_Quality</th>\n",
       "      <td>689</td>\n",
       "    </tr>\n",
       "    <tr>\n",
       "      <th>Garage</th>\n",
       "      <td>81</td>\n",
       "    </tr>\n",
       "    <tr>\n",
       "      <th>Garage_Built_Year</th>\n",
       "      <td>81</td>\n",
       "    </tr>\n",
       "    <tr>\n",
       "      <th>Garage_Finish_Year</th>\n",
       "      <td>81</td>\n",
       "    </tr>\n",
       "    <tr>\n",
       "      <th>Garage_Quality</th>\n",
       "      <td>81</td>\n",
       "    </tr>\n",
       "    <tr>\n",
       "      <th>Garage_Condition</th>\n",
       "      <td>81</td>\n",
       "    </tr>\n",
       "    <tr>\n",
       "      <th>Pool_Quality</th>\n",
       "      <td>1452</td>\n",
       "    </tr>\n",
       "    <tr>\n",
       "      <th>Fence_Quality</th>\n",
       "      <td>1178</td>\n",
       "    </tr>\n",
       "    <tr>\n",
       "      <th>Miscellaneous_Feature</th>\n",
       "      <td>1405</td>\n",
       "    </tr>\n",
       "  </tbody>\n",
       "</table>\n",
       "</div>"
      ],
      "text/plain": [
       "                       Nullscount\n",
       "Lot_Extent                    259\n",
       "Lane_Type                    1368\n",
       "Brick_Veneer_Type             871\n",
       "Brick_Veneer_Area               8\n",
       "Basement_Height                37\n",
       "Basement_Condition             37\n",
       "Exposure_Level                 38\n",
       "BsmtFinType1                   37\n",
       "BsmtFinType2                   38\n",
       "Electrical_System               1\n",
       "Fireplace_Quality             689\n",
       "Garage                         81\n",
       "Garage_Built_Year              81\n",
       "Garage_Finish_Year             81\n",
       "Garage_Quality                 81\n",
       "Garage_Condition               81\n",
       "Pool_Quality                 1452\n",
       "Fence_Quality                1178\n",
       "Miscellaneous_Feature        1405"
      ]
     },
     "execution_count": 165,
     "metadata": {},
     "output_type": "execute_result"
    }
   ],
   "source": [
    "df1=pd.DataFrame(pp.isnull().sum()[pp.isnull().sum()>0])\n",
    "df1.columns=['Nullscount']\n",
    "df1"
   ]
  },
  {
   "cell_type": "code",
   "execution_count": 167,
   "id": "456846d8-9f0a-45c7-a29b-2929a96828ca",
   "metadata": {},
   "outputs": [
    {
     "data": {
      "text/html": [
       "<div>\n",
       "<style scoped>\n",
       "    .dataframe tbody tr th:only-of-type {\n",
       "        vertical-align: middle;\n",
       "    }\n",
       "\n",
       "    .dataframe tbody tr th {\n",
       "        vertical-align: top;\n",
       "    }\n",
       "\n",
       "    .dataframe thead th {\n",
       "        text-align: right;\n",
       "    }\n",
       "</style>\n",
       "<table border=\"1\" class=\"dataframe\">\n",
       "  <thead>\n",
       "    <tr style=\"text-align: right;\">\n",
       "      <th></th>\n",
       "      <th>Nullscount</th>\n",
       "    </tr>\n",
       "  </thead>\n",
       "  <tbody>\n",
       "    <tr>\n",
       "      <th>Pool_Quality</th>\n",
       "      <td>1452</td>\n",
       "    </tr>\n",
       "    <tr>\n",
       "      <th>Miscellaneous_Feature</th>\n",
       "      <td>1405</td>\n",
       "    </tr>\n",
       "    <tr>\n",
       "      <th>Lane_Type</th>\n",
       "      <td>1368</td>\n",
       "    </tr>\n",
       "    <tr>\n",
       "      <th>Fence_Quality</th>\n",
       "      <td>1178</td>\n",
       "    </tr>\n",
       "    <tr>\n",
       "      <th>Brick_Veneer_Type</th>\n",
       "      <td>871</td>\n",
       "    </tr>\n",
       "    <tr>\n",
       "      <th>Fireplace_Quality</th>\n",
       "      <td>689</td>\n",
       "    </tr>\n",
       "    <tr>\n",
       "      <th>Lot_Extent</th>\n",
       "      <td>259</td>\n",
       "    </tr>\n",
       "    <tr>\n",
       "      <th>Garage</th>\n",
       "      <td>81</td>\n",
       "    </tr>\n",
       "    <tr>\n",
       "      <th>Garage_Built_Year</th>\n",
       "      <td>81</td>\n",
       "    </tr>\n",
       "    <tr>\n",
       "      <th>Garage_Finish_Year</th>\n",
       "      <td>81</td>\n",
       "    </tr>\n",
       "    <tr>\n",
       "      <th>Garage_Quality</th>\n",
       "      <td>81</td>\n",
       "    </tr>\n",
       "    <tr>\n",
       "      <th>Garage_Condition</th>\n",
       "      <td>81</td>\n",
       "    </tr>\n",
       "    <tr>\n",
       "      <th>BsmtFinType2</th>\n",
       "      <td>38</td>\n",
       "    </tr>\n",
       "    <tr>\n",
       "      <th>Exposure_Level</th>\n",
       "      <td>38</td>\n",
       "    </tr>\n",
       "    <tr>\n",
       "      <th>BsmtFinType1</th>\n",
       "      <td>37</td>\n",
       "    </tr>\n",
       "    <tr>\n",
       "      <th>Basement_Condition</th>\n",
       "      <td>37</td>\n",
       "    </tr>\n",
       "    <tr>\n",
       "      <th>Basement_Height</th>\n",
       "      <td>37</td>\n",
       "    </tr>\n",
       "    <tr>\n",
       "      <th>Brick_Veneer_Area</th>\n",
       "      <td>8</td>\n",
       "    </tr>\n",
       "    <tr>\n",
       "      <th>Electrical_System</th>\n",
       "      <td>1</td>\n",
       "    </tr>\n",
       "  </tbody>\n",
       "</table>\n",
       "</div>"
      ],
      "text/plain": [
       "                       Nullscount\n",
       "Pool_Quality                 1452\n",
       "Miscellaneous_Feature        1405\n",
       "Lane_Type                    1368\n",
       "Fence_Quality                1178\n",
       "Brick_Veneer_Type             871\n",
       "Fireplace_Quality             689\n",
       "Lot_Extent                    259\n",
       "Garage                         81\n",
       "Garage_Built_Year              81\n",
       "Garage_Finish_Year             81\n",
       "Garage_Quality                 81\n",
       "Garage_Condition               81\n",
       "BsmtFinType2                   38\n",
       "Exposure_Level                 38\n",
       "BsmtFinType1                   37\n",
       "Basement_Condition             37\n",
       "Basement_Height                37\n",
       "Brick_Veneer_Area               8\n",
       "Electrical_System               1"
      ]
     },
     "execution_count": 167,
     "metadata": {},
     "output_type": "execute_result"
    }
   ],
   "source": [
    "df1=df1.sort_values('Nullscount',ascending=False)\n",
    "df1"
   ]
  },
  {
   "cell_type": "code",
   "execution_count": 169,
   "id": "2836e6b3-8852-43a2-976a-76440f3d6bed",
   "metadata": {},
   "outputs": [
    {
     "data": {
      "text/plain": [
       "['Pool_Quality',\n",
       " 'Miscellaneous_Feature',\n",
       " 'Lane_Type',\n",
       " 'Fence_Quality',\n",
       " 'Brick_Veneer_Type',\n",
       " 'Fireplace_Quality']"
      ]
     },
     "execution_count": 169,
     "metadata": {},
     "output_type": "execute_result"
    }
   ],
   "source": [
    "l1=list(df1.index[0:6])\n",
    "l1"
   ]
  },
  {
   "cell_type": "code",
   "execution_count": 171,
   "id": "2397b84e-21f4-455e-9b4c-1932402031ce",
   "metadata": {},
   "outputs": [],
   "source": [
    "pp=pp.drop(l1,axis=1)"
   ]
  },
  {
   "cell_type": "code",
   "execution_count": 173,
   "id": "a9d0766d-022e-425d-a9d9-26e992ac2345",
   "metadata": {},
   "outputs": [
    {
     "data": {
      "text/plain": [
       "(1459, 75)"
      ]
     },
     "execution_count": 173,
     "metadata": {},
     "output_type": "execute_result"
    }
   ],
   "source": [
    "pp.shape"
   ]
  },
  {
   "cell_type": "code",
   "execution_count": 175,
   "id": "983ff293-3778-4820-9916-ac78757bbd3b",
   "metadata": {},
   "outputs": [
    {
     "data": {
      "text/html": [
       "<div>\n",
       "<style scoped>\n",
       "    .dataframe tbody tr th:only-of-type {\n",
       "        vertical-align: middle;\n",
       "    }\n",
       "\n",
       "    .dataframe tbody tr th {\n",
       "        vertical-align: top;\n",
       "    }\n",
       "\n",
       "    .dataframe thead th {\n",
       "        text-align: right;\n",
       "    }\n",
       "</style>\n",
       "<table border=\"1\" class=\"dataframe\">\n",
       "  <thead>\n",
       "    <tr style=\"text-align: right;\">\n",
       "      <th></th>\n",
       "      <th>Id</th>\n",
       "      <th>Building_Class</th>\n",
       "      <th>Zoning_Class</th>\n",
       "      <th>Lot_Extent</th>\n",
       "      <th>Lot_Size</th>\n",
       "      <th>Road_Type</th>\n",
       "      <th>Property_Shape</th>\n",
       "      <th>Land_Outline</th>\n",
       "      <th>Utility_Type</th>\n",
       "      <th>Lot_Configuration</th>\n",
       "      <th>...</th>\n",
       "      <th>Enclosed_Lobby_Area</th>\n",
       "      <th>Three_Season_Lobby_Area</th>\n",
       "      <th>Screen_Lobby_Area</th>\n",
       "      <th>Pool_Area</th>\n",
       "      <th>Miscellaneous_Value</th>\n",
       "      <th>Month_Sold</th>\n",
       "      <th>Year_Sold</th>\n",
       "      <th>Sale_Type</th>\n",
       "      <th>Sale_Condition</th>\n",
       "      <th>Sale_Price</th>\n",
       "    </tr>\n",
       "  </thead>\n",
       "  <tbody>\n",
       "    <tr>\n",
       "      <th>0</th>\n",
       "      <td>1</td>\n",
       "      <td>60</td>\n",
       "      <td>RLD</td>\n",
       "      <td>65.0</td>\n",
       "      <td>8450</td>\n",
       "      <td>Paved</td>\n",
       "      <td>Reg</td>\n",
       "      <td>Lvl</td>\n",
       "      <td>AllPub</td>\n",
       "      <td>I</td>\n",
       "      <td>...</td>\n",
       "      <td>20.337934</td>\n",
       "      <td>0</td>\n",
       "      <td>0</td>\n",
       "      <td>0</td>\n",
       "      <td>0</td>\n",
       "      <td>2</td>\n",
       "      <td>2008</td>\n",
       "      <td>WD</td>\n",
       "      <td>Normal</td>\n",
       "      <td>208500</td>\n",
       "    </tr>\n",
       "    <tr>\n",
       "      <th>1</th>\n",
       "      <td>2</td>\n",
       "      <td>20</td>\n",
       "      <td>RLD</td>\n",
       "      <td>80.0</td>\n",
       "      <td>9600</td>\n",
       "      <td>Paved</td>\n",
       "      <td>Reg</td>\n",
       "      <td>Lvl</td>\n",
       "      <td>AllPub</td>\n",
       "      <td>FR2P</td>\n",
       "      <td>...</td>\n",
       "      <td>15.039392</td>\n",
       "      <td>0</td>\n",
       "      <td>0</td>\n",
       "      <td>0</td>\n",
       "      <td>0</td>\n",
       "      <td>5</td>\n",
       "      <td>2007</td>\n",
       "      <td>WD</td>\n",
       "      <td>Normal</td>\n",
       "      <td>181500</td>\n",
       "    </tr>\n",
       "    <tr>\n",
       "      <th>2</th>\n",
       "      <td>3</td>\n",
       "      <td>60</td>\n",
       "      <td>RLD</td>\n",
       "      <td>68.0</td>\n",
       "      <td>11250</td>\n",
       "      <td>Paved</td>\n",
       "      <td>IR1</td>\n",
       "      <td>Lvl</td>\n",
       "      <td>AllPub</td>\n",
       "      <td>I</td>\n",
       "      <td>...</td>\n",
       "      <td>-46.232198</td>\n",
       "      <td>0</td>\n",
       "      <td>0</td>\n",
       "      <td>0</td>\n",
       "      <td>0</td>\n",
       "      <td>9</td>\n",
       "      <td>2008</td>\n",
       "      <td>WD</td>\n",
       "      <td>Normal</td>\n",
       "      <td>223500</td>\n",
       "    </tr>\n",
       "    <tr>\n",
       "      <th>3</th>\n",
       "      <td>4</td>\n",
       "      <td>70</td>\n",
       "      <td>RLD</td>\n",
       "      <td>60.0</td>\n",
       "      <td>9550</td>\n",
       "      <td>Paved</td>\n",
       "      <td>IR1</td>\n",
       "      <td>Lvl</td>\n",
       "      <td>AllPub</td>\n",
       "      <td>C</td>\n",
       "      <td>...</td>\n",
       "      <td>60.921821</td>\n",
       "      <td>0</td>\n",
       "      <td>0</td>\n",
       "      <td>0</td>\n",
       "      <td>0</td>\n",
       "      <td>2</td>\n",
       "      <td>2006</td>\n",
       "      <td>WD</td>\n",
       "      <td>Abnorml</td>\n",
       "      <td>140000</td>\n",
       "    </tr>\n",
       "    <tr>\n",
       "      <th>4</th>\n",
       "      <td>5</td>\n",
       "      <td>60</td>\n",
       "      <td>RLD</td>\n",
       "      <td>84.0</td>\n",
       "      <td>14260</td>\n",
       "      <td>Paved</td>\n",
       "      <td>IR1</td>\n",
       "      <td>Lvl</td>\n",
       "      <td>AllPub</td>\n",
       "      <td>FR2P</td>\n",
       "      <td>...</td>\n",
       "      <td>21.788818</td>\n",
       "      <td>0</td>\n",
       "      <td>0</td>\n",
       "      <td>0</td>\n",
       "      <td>0</td>\n",
       "      <td>12</td>\n",
       "      <td>2008</td>\n",
       "      <td>WD</td>\n",
       "      <td>Normal</td>\n",
       "      <td>250000</td>\n",
       "    </tr>\n",
       "  </tbody>\n",
       "</table>\n",
       "<p>5 rows × 75 columns</p>\n",
       "</div>"
      ],
      "text/plain": [
       "   Id  Building_Class Zoning_Class  Lot_Extent  Lot_Size Road_Type  \\\n",
       "0   1              60          RLD        65.0      8450     Paved   \n",
       "1   2              20          RLD        80.0      9600     Paved   \n",
       "2   3              60          RLD        68.0     11250     Paved   \n",
       "3   4              70          RLD        60.0      9550     Paved   \n",
       "4   5              60          RLD        84.0     14260     Paved   \n",
       "\n",
       "  Property_Shape Land_Outline Utility_Type Lot_Configuration  ...  \\\n",
       "0            Reg          Lvl       AllPub                 I  ...   \n",
       "1            Reg          Lvl       AllPub              FR2P  ...   \n",
       "2            IR1          Lvl       AllPub                 I  ...   \n",
       "3            IR1          Lvl       AllPub                 C  ...   \n",
       "4            IR1          Lvl       AllPub              FR2P  ...   \n",
       "\n",
       "  Enclosed_Lobby_Area Three_Season_Lobby_Area Screen_Lobby_Area Pool_Area  \\\n",
       "0           20.337934                       0                 0         0   \n",
       "1           15.039392                       0                 0         0   \n",
       "2          -46.232198                       0                 0         0   \n",
       "3           60.921821                       0                 0         0   \n",
       "4           21.788818                       0                 0         0   \n",
       "\n",
       "  Miscellaneous_Value Month_Sold  Year_Sold  Sale_Type  Sale_Condition  \\\n",
       "0                   0          2       2008         WD          Normal   \n",
       "1                   0          5       2007         WD          Normal   \n",
       "2                   0          9       2008         WD          Normal   \n",
       "3                   0          2       2006         WD         Abnorml   \n",
       "4                   0         12       2008         WD          Normal   \n",
       "\n",
       "   Sale_Price  \n",
       "0      208500  \n",
       "1      181500  \n",
       "2      223500  \n",
       "3      140000  \n",
       "4      250000  \n",
       "\n",
       "[5 rows x 75 columns]"
      ]
     },
     "execution_count": 175,
     "metadata": {},
     "output_type": "execute_result"
    }
   ],
   "source": [
    "pp.head()"
   ]
  },
  {
   "cell_type": "code",
   "execution_count": 177,
   "id": "bea3c3e2-0795-44d7-93b7-e6c160e5aa28",
   "metadata": {},
   "outputs": [],
   "source": [
    "pp=pp.drop(['Id'],axis=1)"
   ]
  },
  {
   "cell_type": "code",
   "execution_count": 179,
   "id": "c7ae4c4e-5b29-441a-aded-f68199cef340",
   "metadata": {},
   "outputs": [
    {
     "data": {
      "text/plain": [
       "Lot_Extent            259\n",
       "Brick_Veneer_Area       8\n",
       "Basement_Height        37\n",
       "Basement_Condition     37\n",
       "Exposure_Level         38\n",
       "BsmtFinType1           37\n",
       "BsmtFinType2           38\n",
       "Electrical_System       1\n",
       "Garage                 81\n",
       "Garage_Built_Year      81\n",
       "Garage_Finish_Year     81\n",
       "Garage_Quality         81\n",
       "Garage_Condition       81\n",
       "dtype: int64"
      ]
     },
     "execution_count": 179,
     "metadata": {},
     "output_type": "execute_result"
    }
   ],
   "source": [
    "pp.isnull().sum()[pp.isnull().sum()>0]"
   ]
  },
  {
   "cell_type": "code",
   "execution_count": 181,
   "id": "de21c63d-512b-456c-b419-7993797acab4",
   "metadata": {},
   "outputs": [
    {
     "name": "stdout",
     "output_type": "stream",
     "text": [
      "<class 'pandas.core.frame.DataFrame'>\n",
      "RangeIndex: 1459 entries, 0 to 1458\n",
      "Data columns (total 74 columns):\n",
      " #   Column                     Non-Null Count  Dtype  \n",
      "---  ------                     --------------  -----  \n",
      " 0   Building_Class             1459 non-null   int64  \n",
      " 1   Zoning_Class               1459 non-null   object \n",
      " 2   Lot_Extent                 1200 non-null   float64\n",
      " 3   Lot_Size                   1459 non-null   int64  \n",
      " 4   Road_Type                  1459 non-null   object \n",
      " 5   Property_Shape             1459 non-null   object \n",
      " 6   Land_Outline               1459 non-null   object \n",
      " 7   Utility_Type               1459 non-null   object \n",
      " 8   Lot_Configuration          1459 non-null   object \n",
      " 9   Property_Slope             1459 non-null   object \n",
      " 10  Neighborhood               1459 non-null   object \n",
      " 11  Condition1                 1459 non-null   object \n",
      " 12  Condition2                 1459 non-null   object \n",
      " 13  House_Type                 1459 non-null   object \n",
      " 14  House_Design               1459 non-null   object \n",
      " 15  Overall_Material           1459 non-null   int64  \n",
      " 16  House_Condition            1459 non-null   int64  \n",
      " 17  Construction_Year          1459 non-null   int64  \n",
      " 18  Remodel_Year               1459 non-null   int64  \n",
      " 19  Roof_Design                1459 non-null   object \n",
      " 20  Roof_Quality               1459 non-null   object \n",
      " 21  Exterior1st                1459 non-null   object \n",
      " 22  Exterior2nd                1459 non-null   object \n",
      " 23  Brick_Veneer_Area          1451 non-null   float64\n",
      " 24  Exterior_Material          1459 non-null   object \n",
      " 25  Exterior_Condition         1459 non-null   object \n",
      " 26  Foundation_Type            1459 non-null   object \n",
      " 27  Basement_Height            1422 non-null   object \n",
      " 28  Basement_Condition         1422 non-null   object \n",
      " 29  Exposure_Level             1421 non-null   object \n",
      " 30  BsmtFinType1               1422 non-null   object \n",
      " 31  BsmtFinSF1                 1459 non-null   int64  \n",
      " 32  BsmtFinType2               1421 non-null   object \n",
      " 33  BsmtFinSF2                 1459 non-null   int64  \n",
      " 34  BsmtUnfSF                  1459 non-null   int64  \n",
      " 35  Total_Basement_Area        1459 non-null   int64  \n",
      " 36  Heating_Type               1459 non-null   object \n",
      " 37  Heating_Quality            1459 non-null   object \n",
      " 38  Air_Conditioning           1459 non-null   object \n",
      " 39  Electrical_System          1458 non-null   object \n",
      " 40  First_Floor_Area           1459 non-null   int64  \n",
      " 41  Second_Floor_Area          1459 non-null   int64  \n",
      " 42  LowQualFinSF               1459 non-null   int64  \n",
      " 43  Grade_Living_Area          1459 non-null   int64  \n",
      " 44  Underground_Full_Bathroom  1459 non-null   int64  \n",
      " 45  Underground_Half_Bathroom  1459 non-null   int64  \n",
      " 46  Full_Bathroom_Above_Grade  1459 non-null   int64  \n",
      " 47  Half_Bathroom_Above_Grade  1459 non-null   int64  \n",
      " 48  Bedroom_Above_Grade        1459 non-null   int64  \n",
      " 49  Kitchen_Above_Grade        1459 non-null   int64  \n",
      " 50  Kitchen_Quality            1459 non-null   object \n",
      " 51  Rooms_Above_Grade          1459 non-null   int64  \n",
      " 52  Functional_Rate            1459 non-null   object \n",
      " 53  Fireplaces                 1459 non-null   int64  \n",
      " 54  Garage                     1378 non-null   object \n",
      " 55  Garage_Built_Year          1378 non-null   float64\n",
      " 56  Garage_Finish_Year         1378 non-null   object \n",
      " 57  Garage_Size                1459 non-null   int64  \n",
      " 58  Garage_Area                1459 non-null   float64\n",
      " 59  Garage_Quality             1378 non-null   object \n",
      " 60  Garage_Condition           1378 non-null   object \n",
      " 61  Pavedd_Drive               1459 non-null   object \n",
      " 62  W_Deck_Area                1459 non-null   float64\n",
      " 63  Open_Lobby_Area            1459 non-null   float64\n",
      " 64  Enclosed_Lobby_Area        1459 non-null   float64\n",
      " 65  Three_Season_Lobby_Area    1459 non-null   int64  \n",
      " 66  Screen_Lobby_Area          1459 non-null   int64  \n",
      " 67  Pool_Area                  1459 non-null   int64  \n",
      " 68  Miscellaneous_Value        1459 non-null   int64  \n",
      " 69  Month_Sold                 1459 non-null   int64  \n",
      " 70  Year_Sold                  1459 non-null   int64  \n",
      " 71  Sale_Type                  1459 non-null   object \n",
      " 72  Sale_Condition             1459 non-null   object \n",
      " 73  Sale_Price                 1459 non-null   int64  \n",
      "dtypes: float64(7), int64(30), object(37)\n",
      "memory usage: 843.6+ KB\n"
     ]
    }
   ],
   "source": [
    "pp.info()"
   ]
  },
  {
   "cell_type": "code",
   "execution_count": 183,
   "id": "f6530c91-ea6f-4382-8563-4597f94dce04",
   "metadata": {},
   "outputs": [
    {
     "name": "stdout",
     "output_type": "stream",
     "text": [
      "<class 'pandas.core.frame.DataFrame'>\n",
      "RangeIndex: 1459 entries, 0 to 1458\n",
      "Data columns (total 74 columns):\n",
      " #   Column                     Non-Null Count  Dtype  \n",
      "---  ------                     --------------  -----  \n",
      " 0   Building_Class             1459 non-null   int64  \n",
      " 1   Zoning_Class               1459 non-null   object \n",
      " 2   Lot_Extent                 1200 non-null   float64\n",
      " 3   Lot_Size                   1459 non-null   int64  \n",
      " 4   Road_Type                  1459 non-null   object \n",
      " 5   Property_Shape             1459 non-null   object \n",
      " 6   Land_Outline               1459 non-null   object \n",
      " 7   Utility_Type               1459 non-null   object \n",
      " 8   Lot_Configuration          1459 non-null   object \n",
      " 9   Property_Slope             1459 non-null   object \n",
      " 10  Neighborhood               1459 non-null   object \n",
      " 11  Condition1                 1459 non-null   object \n",
      " 12  Condition2                 1459 non-null   object \n",
      " 13  House_Type                 1459 non-null   object \n",
      " 14  House_Design               1459 non-null   object \n",
      " 15  Overall_Material           1459 non-null   int64  \n",
      " 16  House_Condition            1459 non-null   int64  \n",
      " 17  Construction_Year          1459 non-null   int64  \n",
      " 18  Remodel_Year               1459 non-null   int64  \n",
      " 19  Roof_Design                1459 non-null   object \n",
      " 20  Roof_Quality               1459 non-null   object \n",
      " 21  Exterior1st                1459 non-null   object \n",
      " 22  Exterior2nd                1459 non-null   object \n",
      " 23  Brick_Veneer_Area          1451 non-null   float64\n",
      " 24  Exterior_Material          1459 non-null   object \n",
      " 25  Exterior_Condition         1459 non-null   object \n",
      " 26  Foundation_Type            1459 non-null   object \n",
      " 27  Basement_Height            1422 non-null   object \n",
      " 28  Basement_Condition         1422 non-null   object \n",
      " 29  Exposure_Level             1421 non-null   object \n",
      " 30  BsmtFinType1               1422 non-null   object \n",
      " 31  BsmtFinSF1                 1459 non-null   int64  \n",
      " 32  BsmtFinType2               1421 non-null   object \n",
      " 33  BsmtFinSF2                 1459 non-null   int64  \n",
      " 34  BsmtUnfSF                  1459 non-null   int64  \n",
      " 35  Total_Basement_Area        1459 non-null   int64  \n",
      " 36  Heating_Type               1459 non-null   object \n",
      " 37  Heating_Quality            1459 non-null   object \n",
      " 38  Air_Conditioning           1459 non-null   object \n",
      " 39  Electrical_System          1458 non-null   object \n",
      " 40  First_Floor_Area           1459 non-null   int64  \n",
      " 41  Second_Floor_Area          1459 non-null   int64  \n",
      " 42  LowQualFinSF               1459 non-null   int64  \n",
      " 43  Grade_Living_Area          1459 non-null   int64  \n",
      " 44  Underground_Full_Bathroom  1459 non-null   int64  \n",
      " 45  Underground_Half_Bathroom  1459 non-null   int64  \n",
      " 46  Full_Bathroom_Above_Grade  1459 non-null   int64  \n",
      " 47  Half_Bathroom_Above_Grade  1459 non-null   int64  \n",
      " 48  Bedroom_Above_Grade        1459 non-null   int64  \n",
      " 49  Kitchen_Above_Grade        1459 non-null   int64  \n",
      " 50  Kitchen_Quality            1459 non-null   object \n",
      " 51  Rooms_Above_Grade          1459 non-null   int64  \n",
      " 52  Functional_Rate            1459 non-null   object \n",
      " 53  Fireplaces                 1459 non-null   int64  \n",
      " 54  Garage                     1378 non-null   object \n",
      " 55  Garage_Built_Year          1378 non-null   float64\n",
      " 56  Garage_Finish_Year         1378 non-null   object \n",
      " 57  Garage_Size                1459 non-null   int64  \n",
      " 58  Garage_Area                1459 non-null   float64\n",
      " 59  Garage_Quality             1378 non-null   object \n",
      " 60  Garage_Condition           1378 non-null   object \n",
      " 61  Pavedd_Drive               1459 non-null   object \n",
      " 62  W_Deck_Area                1459 non-null   float64\n",
      " 63  Open_Lobby_Area            1459 non-null   float64\n",
      " 64  Enclosed_Lobby_Area        1459 non-null   float64\n",
      " 65  Three_Season_Lobby_Area    1459 non-null   int64  \n",
      " 66  Screen_Lobby_Area          1459 non-null   int64  \n",
      " 67  Pool_Area                  1459 non-null   int64  \n",
      " 68  Miscellaneous_Value        1459 non-null   int64  \n",
      " 69  Month_Sold                 1459 non-null   int64  \n",
      " 70  Year_Sold                  1459 non-null   int64  \n",
      " 71  Sale_Type                  1459 non-null   object \n",
      " 72  Sale_Condition             1459 non-null   object \n",
      " 73  Sale_Price                 1459 non-null   int64  \n",
      "dtypes: float64(7), int64(30), object(37)\n",
      "memory usage: 843.6+ KB\n"
     ]
    }
   ],
   "source": [
    "pp.info()"
   ]
  },
  {
   "cell_type": "code",
   "execution_count": 185,
   "id": "ab2b352c-8478-45bc-bd29-13a2c2efe7f1",
   "metadata": {},
   "outputs": [
    {
     "name": "stderr",
     "output_type": "stream",
     "text": [
      "C:\\Users\\SARTHAK JAGADALE\\AppData\\Local\\Temp\\ipykernel_19180\\2376885591.py:1: FutureWarning: A value is trying to be set on a copy of a DataFrame or Series through chained assignment using an inplace method.\n",
      "The behavior will change in pandas 3.0. This inplace method will never work because the intermediate object on which we are setting values always behaves as a copy.\n",
      "\n",
      "For example, when doing 'df[col].method(value, inplace=True)', try using 'df.method({col: value}, inplace=True)' or df[col] = df[col].method(value) instead, to perform the operation inplace on the original object.\n",
      "\n",
      "\n",
      "  pp.Brick_Veneer_Area.fillna(pp.Brick_Veneer_Area.mean(),inplace=True)\n",
      "C:\\Users\\SARTHAK JAGADALE\\AppData\\Local\\Temp\\ipykernel_19180\\2376885591.py:2: FutureWarning: A value is trying to be set on a copy of a DataFrame or Series through chained assignment using an inplace method.\n",
      "The behavior will change in pandas 3.0. This inplace method will never work because the intermediate object on which we are setting values always behaves as a copy.\n",
      "\n",
      "For example, when doing 'df[col].method(value, inplace=True)', try using 'df.method({col: value}, inplace=True)' or df[col] = df[col].method(value) instead, to perform the operation inplace on the original object.\n",
      "\n",
      "\n",
      "  pp.Basement_Height.fillna('TA',inplace=True)\n",
      "C:\\Users\\SARTHAK JAGADALE\\AppData\\Local\\Temp\\ipykernel_19180\\2376885591.py:3: FutureWarning: A value is trying to be set on a copy of a DataFrame or Series through chained assignment using an inplace method.\n",
      "The behavior will change in pandas 3.0. This inplace method will never work because the intermediate object on which we are setting values always behaves as a copy.\n",
      "\n",
      "For example, when doing 'df[col].method(value, inplace=True)', try using 'df.method({col: value}, inplace=True)' or df[col] = df[col].method(value) instead, to perform the operation inplace on the original object.\n",
      "\n",
      "\n",
      "  pp.Basement_Condition.fillna('TA',inplace=True)\n",
      "C:\\Users\\SARTHAK JAGADALE\\AppData\\Local\\Temp\\ipykernel_19180\\2376885591.py:4: FutureWarning: A value is trying to be set on a copy of a DataFrame or Series through chained assignment using an inplace method.\n",
      "The behavior will change in pandas 3.0. This inplace method will never work because the intermediate object on which we are setting values always behaves as a copy.\n",
      "\n",
      "For example, when doing 'df[col].method(value, inplace=True)', try using 'df.method({col: value}, inplace=True)' or df[col] = df[col].method(value) instead, to perform the operation inplace on the original object.\n",
      "\n",
      "\n",
      "  pp.Exposure_Level.fillna('No',inplace=True)\n",
      "C:\\Users\\SARTHAK JAGADALE\\AppData\\Local\\Temp\\ipykernel_19180\\2376885591.py:5: FutureWarning: A value is trying to be set on a copy of a DataFrame or Series through chained assignment using an inplace method.\n",
      "The behavior will change in pandas 3.0. This inplace method will never work because the intermediate object on which we are setting values always behaves as a copy.\n",
      "\n",
      "For example, when doing 'df[col].method(value, inplace=True)', try using 'df.method({col: value}, inplace=True)' or df[col] = df[col].method(value) instead, to perform the operation inplace on the original object.\n",
      "\n",
      "\n",
      "  pp.BsmtFinType1.fillna('Unf',inplace=True)\n",
      "C:\\Users\\SARTHAK JAGADALE\\AppData\\Local\\Temp\\ipykernel_19180\\2376885591.py:6: FutureWarning: A value is trying to be set on a copy of a DataFrame or Series through chained assignment using an inplace method.\n",
      "The behavior will change in pandas 3.0. This inplace method will never work because the intermediate object on which we are setting values always behaves as a copy.\n",
      "\n",
      "For example, when doing 'df[col].method(value, inplace=True)', try using 'df.method({col: value}, inplace=True)' or df[col] = df[col].method(value) instead, to perform the operation inplace on the original object.\n",
      "\n",
      "\n",
      "  pp.BsmtFinType2.fillna('Unf',inplace=True)\n",
      "C:\\Users\\SARTHAK JAGADALE\\AppData\\Local\\Temp\\ipykernel_19180\\2376885591.py:7: FutureWarning: A value is trying to be set on a copy of a DataFrame or Series through chained assignment using an inplace method.\n",
      "The behavior will change in pandas 3.0. This inplace method will never work because the intermediate object on which we are setting values always behaves as a copy.\n",
      "\n",
      "For example, when doing 'df[col].method(value, inplace=True)', try using 'df.method({col: value}, inplace=True)' or df[col] = df[col].method(value) instead, to perform the operation inplace on the original object.\n",
      "\n",
      "\n",
      "  pp.Electrical_System.fillna('SBrkr',inplace=True)\n",
      "C:\\Users\\SARTHAK JAGADALE\\AppData\\Local\\Temp\\ipykernel_19180\\2376885591.py:8: FutureWarning: A value is trying to be set on a copy of a DataFrame or Series through chained assignment using an inplace method.\n",
      "The behavior will change in pandas 3.0. This inplace method will never work because the intermediate object on which we are setting values always behaves as a copy.\n",
      "\n",
      "For example, when doing 'df[col].method(value, inplace=True)', try using 'df.method({col: value}, inplace=True)' or df[col] = df[col].method(value) instead, to perform the operation inplace on the original object.\n",
      "\n",
      "\n",
      "  pp.Lot_Extent.fillna(pp.Lot_Extent.mean(),inplace=True)\n",
      "C:\\Users\\SARTHAK JAGADALE\\AppData\\Local\\Temp\\ipykernel_19180\\2376885591.py:9: FutureWarning: A value is trying to be set on a copy of a DataFrame or Series through chained assignment using an inplace method.\n",
      "The behavior will change in pandas 3.0. This inplace method will never work because the intermediate object on which we are setting values always behaves as a copy.\n",
      "\n",
      "For example, when doing 'df[col].method(value, inplace=True)', try using 'df.method({col: value}, inplace=True)' or df[col] = df[col].method(value) instead, to perform the operation inplace on the original object.\n",
      "\n",
      "\n",
      "  pp.Garage_Built_Year.fillna(pp.Garage_Built_Year.mean(),inplace=True)\n"
     ]
    }
   ],
   "source": [
    "pp.Brick_Veneer_Area.fillna(pp.Brick_Veneer_Area.mean(),inplace=True)\n",
    "pp.Basement_Height.fillna('TA',inplace=True)\n",
    "pp.Basement_Condition.fillna('TA',inplace=True)\n",
    "pp.Exposure_Level.fillna('No',inplace=True)\n",
    "pp.BsmtFinType1.fillna('Unf',inplace=True)\n",
    "pp.BsmtFinType2.fillna('Unf',inplace=True)\n",
    "pp.Electrical_System.fillna('SBrkr',inplace=True)\n",
    "pp.Lot_Extent.fillna(pp.Lot_Extent.mean(),inplace=True)\n",
    "pp.Garage_Built_Year.fillna(pp.Garage_Built_Year.mean(),inplace=True)\n"
   ]
  },
  {
   "cell_type": "code",
   "execution_count": 187,
   "id": "c40a2f3c-40f6-4e36-bf2c-8aa1f5ace20b",
   "metadata": {},
   "outputs": [
    {
     "data": {
      "text/plain": [
       "['Zoning_Class',\n",
       " 'Road_Type',\n",
       " 'Property_Shape',\n",
       " 'Land_Outline',\n",
       " 'Utility_Type',\n",
       " 'Lot_Configuration',\n",
       " 'Property_Slope',\n",
       " 'Neighborhood',\n",
       " 'Condition1',\n",
       " 'Condition2',\n",
       " 'House_Type',\n",
       " 'House_Design',\n",
       " 'Roof_Design',\n",
       " 'Roof_Quality',\n",
       " 'Exterior1st',\n",
       " 'Exterior2nd',\n",
       " 'Exterior_Material',\n",
       " 'Exterior_Condition',\n",
       " 'Foundation_Type',\n",
       " 'Basement_Height',\n",
       " 'Basement_Condition',\n",
       " 'Exposure_Level',\n",
       " 'BsmtFinType1',\n",
       " 'BsmtFinType2',\n",
       " 'Heating_Type',\n",
       " 'Heating_Quality',\n",
       " 'Air_Conditioning',\n",
       " 'Electrical_System',\n",
       " 'Kitchen_Quality',\n",
       " 'Functional_Rate',\n",
       " 'Garage',\n",
       " 'Garage_Finish_Year',\n",
       " 'Garage_Quality',\n",
       " 'Garage_Condition',\n",
       " 'Pavedd_Drive',\n",
       " 'Sale_Type',\n",
       " 'Sale_Condition']"
      ]
     },
     "execution_count": 187,
     "metadata": {},
     "output_type": "execute_result"
    }
   ],
   "source": [
    "l2=list(pp.select_dtypes(include='object').columns)\n",
    "l2"
   ]
  },
  {
   "cell_type": "code",
   "execution_count": 189,
   "id": "de8d5230-f8a2-4ae7-835f-b5844d91e16f",
   "metadata": {},
   "outputs": [
    {
     "data": {
      "text/plain": [
       "Index(['Zoning_Class', 'Road_Type', 'Property_Shape', 'Land_Outline',\n",
       "       'Utility_Type', 'Lot_Configuration', 'Property_Slope', 'Neighborhood',\n",
       "       'Condition1', 'Condition2', 'House_Type', 'House_Design', 'Roof_Design',\n",
       "       'Roof_Quality', 'Exterior1st', 'Exterior2nd', 'Exterior_Material',\n",
       "       'Exterior_Condition', 'Foundation_Type', 'Basement_Height',\n",
       "       'Basement_Condition', 'Exposure_Level', 'BsmtFinType1', 'BsmtFinType2',\n",
       "       'Heating_Type', 'Heating_Quality', 'Air_Conditioning',\n",
       "       'Electrical_System', 'Kitchen_Quality', 'Functional_Rate', 'Garage',\n",
       "       'Garage_Finish_Year', 'Garage_Quality', 'Garage_Condition',\n",
       "       'Pavedd_Drive', 'Sale_Type', 'Sale_Condition'],\n",
       "      dtype='object')"
      ]
     },
     "execution_count": 189,
     "metadata": {},
     "output_type": "execute_result"
    }
   ],
   "source": [
    "pp.select_dtypes(include='object').columns"
   ]
  },
  {
   "cell_type": "code",
   "execution_count": 191,
   "id": "5ba0f2e1-acbe-41c1-84ae-fb0eb494a137",
   "metadata": {},
   "outputs": [],
   "source": [
    "from sklearn.preprocessing import LabelEncoder\n",
    "le=LabelEncoder() \n",
    "\n",
    "# pp.Zoning_Class=le.fit_transform(pp.Zoning_Class)\n",
    "# pp.Road_Type=le.fit_transform(pp.Road_Type)\n",
    "# pp.Property_Shape=le.fit_transform(pp.Property_Shape)\n",
    "# pp.Land_Outline=le.fit_transform(pp.Land_Outline)\n",
    "# pp.Utility_Type=le.fit_transform(pp.Utility_Type)\n",
    "# pp.Lot_Configuration=le.fit_transform(pp.Lot_Configuration)\n",
    "# pp.Property_Slope=le.fit_transform(pp.Property_Slope)\n",
    "# pp.Neighborhood=le.fit_transform(pp.Neighborhood)\n",
    "# pp.Condition1=le.fit_transform(pp.Condition1)\n",
    "# pp.Condition2=le.fit_transform(pp.Condition2)\n",
    "# pp.House_Type=le.fit_transform(pp.House_Type)\n",
    "# pp.House_Design=le.fit_transform(pp.House_Design)\n",
    "# pp.Roof_Design=le.fit_transform(pp.Roof_Design)\n",
    "# pp.Roof_Quality=le.fit_transform(pp.Roof_Quality)\n",
    "# pp.Exterior1st=le.fit_transform(pp.Exterior1st)\n",
    "# pp.Exterior2nd=le.fit_transform(pp.Exterior2nd)\n",
    "# pp.Brick_Veneer_Type=le.fit_transform(pp.Brick_Veneer_Type)\n",
    "# pp.Exterior_Material=le.fit_transform(pp.Exterior_Material)\n",
    "# pp.Exterior_Condition=le.fit_transform(pp.Exterior_Condition)\n",
    "# pp.Foundation_Type=le.fit_transform(pp.Foundation_Type)\n",
    "# pp.Basement_Height=le.fit_transform(pp.Basement_Height)"
   ]
  },
  {
   "cell_type": "code",
   "execution_count": 193,
   "id": "bb5b6925-4c78-4a2c-8541-e11d0fceee83",
   "metadata": {},
   "outputs": [],
   "source": [
    "#instead of writing so many single single columns do this in one line \n",
    "#by applying fit transform to whole dataframe\n",
    "\n",
    "#use this technique only when no ordinal columns\n",
    "\n",
    "pp[pp.select_dtypes(include='object').columns]=pp[pp.select_dtypes(include='object').columns].apply(le.fit_transform)"
   ]
  },
  {
   "cell_type": "code",
   "execution_count": 195,
   "id": "ff9a4857-c613-4be1-9b08-8e1e29b7442f",
   "metadata": {},
   "outputs": [
    {
     "data": {
      "text/plain": [
       "Series([], dtype: int64)"
      ]
     },
     "execution_count": 195,
     "metadata": {},
     "output_type": "execute_result"
    }
   ],
   "source": [
    "pp.isnull().sum()[pp.isnull().sum()>0]"
   ]
  },
  {
   "cell_type": "code",
   "execution_count": 197,
   "id": "7c49b862-c4e2-4b3b-9c0d-bfad8920303d",
   "metadata": {},
   "outputs": [
    {
     "data": {
      "text/plain": [
       "Index([], dtype='object')"
      ]
     },
     "execution_count": 197,
     "metadata": {},
     "output_type": "execute_result"
    }
   ],
   "source": [
    "pp.select_dtypes(include='object').columns"
   ]
  },
  {
   "cell_type": "code",
   "execution_count": 271,
   "id": "256c35c2-c74b-4c7b-a9c0-a5b847014514",
   "metadata": {},
   "outputs": [],
   "source": [
    "pp=df1"
   ]
  },
  {
   "cell_type": "code",
   "execution_count": 273,
   "id": "7849bea0-0afc-4ef2-90cc-cf1d6e35ab3f",
   "metadata": {},
   "outputs": [],
   "source": [
    "from sklearn.model_selection import train_test_split\n",
    "train_pp,test_pp = train_test_split(pp,test_size=0.2)\n"
   ]
  },
  {
   "cell_type": "code",
   "execution_count": 275,
   "id": "8dfdcab8-2e81-4072-beeb-1e69157ae174",
   "metadata": {},
   "outputs": [],
   "source": [
    "train_pp_x=train_pp.iloc[:,0:-1]  #select x variables\n",
    "train_pp_y=train_pp.iloc[:,-1]   # select y variables\n",
    "\n",
    "test_pp_x=test_pp.iloc[:,0:-1]  #select x variables\n",
    "test_pp_y=test_pp.iloc[:,-1]   # select y variables"
   ]
  },
  {
   "cell_type": "code",
   "execution_count": 277,
   "id": "6c2c520e-e257-423d-9c4e-2ce407091be8",
   "metadata": {},
   "outputs": [
    {
     "data": {
      "text/html": [
       "<style>#sk-container-id-2 {\n",
       "  /* Definition of color scheme common for light and dark mode */\n",
       "  --sklearn-color-text: black;\n",
       "  --sklearn-color-line: gray;\n",
       "  /* Definition of color scheme for unfitted estimators */\n",
       "  --sklearn-color-unfitted-level-0: #fff5e6;\n",
       "  --sklearn-color-unfitted-level-1: #f6e4d2;\n",
       "  --sklearn-color-unfitted-level-2: #ffe0b3;\n",
       "  --sklearn-color-unfitted-level-3: chocolate;\n",
       "  /* Definition of color scheme for fitted estimators */\n",
       "  --sklearn-color-fitted-level-0: #f0f8ff;\n",
       "  --sklearn-color-fitted-level-1: #d4ebff;\n",
       "  --sklearn-color-fitted-level-2: #b3dbfd;\n",
       "  --sklearn-color-fitted-level-3: cornflowerblue;\n",
       "\n",
       "  /* Specific color for light theme */\n",
       "  --sklearn-color-text-on-default-background: var(--sg-text-color, var(--theme-code-foreground, var(--jp-content-font-color1, black)));\n",
       "  --sklearn-color-background: var(--sg-background-color, var(--theme-background, var(--jp-layout-color0, white)));\n",
       "  --sklearn-color-border-box: var(--sg-text-color, var(--theme-code-foreground, var(--jp-content-font-color1, black)));\n",
       "  --sklearn-color-icon: #696969;\n",
       "\n",
       "  @media (prefers-color-scheme: dark) {\n",
       "    /* Redefinition of color scheme for dark theme */\n",
       "    --sklearn-color-text-on-default-background: var(--sg-text-color, var(--theme-code-foreground, var(--jp-content-font-color1, white)));\n",
       "    --sklearn-color-background: var(--sg-background-color, var(--theme-background, var(--jp-layout-color0, #111)));\n",
       "    --sklearn-color-border-box: var(--sg-text-color, var(--theme-code-foreground, var(--jp-content-font-color1, white)));\n",
       "    --sklearn-color-icon: #878787;\n",
       "  }\n",
       "}\n",
       "\n",
       "#sk-container-id-2 {\n",
       "  color: var(--sklearn-color-text);\n",
       "}\n",
       "\n",
       "#sk-container-id-2 pre {\n",
       "  padding: 0;\n",
       "}\n",
       "\n",
       "#sk-container-id-2 input.sk-hidden--visually {\n",
       "  border: 0;\n",
       "  clip: rect(1px 1px 1px 1px);\n",
       "  clip: rect(1px, 1px, 1px, 1px);\n",
       "  height: 1px;\n",
       "  margin: -1px;\n",
       "  overflow: hidden;\n",
       "  padding: 0;\n",
       "  position: absolute;\n",
       "  width: 1px;\n",
       "}\n",
       "\n",
       "#sk-container-id-2 div.sk-dashed-wrapped {\n",
       "  border: 1px dashed var(--sklearn-color-line);\n",
       "  margin: 0 0.4em 0.5em 0.4em;\n",
       "  box-sizing: border-box;\n",
       "  padding-bottom: 0.4em;\n",
       "  background-color: var(--sklearn-color-background);\n",
       "}\n",
       "\n",
       "#sk-container-id-2 div.sk-container {\n",
       "  /* jupyter's `normalize.less` sets `[hidden] { display: none; }`\n",
       "     but bootstrap.min.css set `[hidden] { display: none !important; }`\n",
       "     so we also need the `!important` here to be able to override the\n",
       "     default hidden behavior on the sphinx rendered scikit-learn.org.\n",
       "     See: https://github.com/scikit-learn/scikit-learn/issues/21755 */\n",
       "  display: inline-block !important;\n",
       "  position: relative;\n",
       "}\n",
       "\n",
       "#sk-container-id-2 div.sk-text-repr-fallback {\n",
       "  display: none;\n",
       "}\n",
       "\n",
       "div.sk-parallel-item,\n",
       "div.sk-serial,\n",
       "div.sk-item {\n",
       "  /* draw centered vertical line to link estimators */\n",
       "  background-image: linear-gradient(var(--sklearn-color-text-on-default-background), var(--sklearn-color-text-on-default-background));\n",
       "  background-size: 2px 100%;\n",
       "  background-repeat: no-repeat;\n",
       "  background-position: center center;\n",
       "}\n",
       "\n",
       "/* Parallel-specific style estimator block */\n",
       "\n",
       "#sk-container-id-2 div.sk-parallel-item::after {\n",
       "  content: \"\";\n",
       "  width: 100%;\n",
       "  border-bottom: 2px solid var(--sklearn-color-text-on-default-background);\n",
       "  flex-grow: 1;\n",
       "}\n",
       "\n",
       "#sk-container-id-2 div.sk-parallel {\n",
       "  display: flex;\n",
       "  align-items: stretch;\n",
       "  justify-content: center;\n",
       "  background-color: var(--sklearn-color-background);\n",
       "  position: relative;\n",
       "}\n",
       "\n",
       "#sk-container-id-2 div.sk-parallel-item {\n",
       "  display: flex;\n",
       "  flex-direction: column;\n",
       "}\n",
       "\n",
       "#sk-container-id-2 div.sk-parallel-item:first-child::after {\n",
       "  align-self: flex-end;\n",
       "  width: 50%;\n",
       "}\n",
       "\n",
       "#sk-container-id-2 div.sk-parallel-item:last-child::after {\n",
       "  align-self: flex-start;\n",
       "  width: 50%;\n",
       "}\n",
       "\n",
       "#sk-container-id-2 div.sk-parallel-item:only-child::after {\n",
       "  width: 0;\n",
       "}\n",
       "\n",
       "/* Serial-specific style estimator block */\n",
       "\n",
       "#sk-container-id-2 div.sk-serial {\n",
       "  display: flex;\n",
       "  flex-direction: column;\n",
       "  align-items: center;\n",
       "  background-color: var(--sklearn-color-background);\n",
       "  padding-right: 1em;\n",
       "  padding-left: 1em;\n",
       "}\n",
       "\n",
       "\n",
       "/* Toggleable style: style used for estimator/Pipeline/ColumnTransformer box that is\n",
       "clickable and can be expanded/collapsed.\n",
       "- Pipeline and ColumnTransformer use this feature and define the default style\n",
       "- Estimators will overwrite some part of the style using the `sk-estimator` class\n",
       "*/\n",
       "\n",
       "/* Pipeline and ColumnTransformer style (default) */\n",
       "\n",
       "#sk-container-id-2 div.sk-toggleable {\n",
       "  /* Default theme specific background. It is overwritten whether we have a\n",
       "  specific estimator or a Pipeline/ColumnTransformer */\n",
       "  background-color: var(--sklearn-color-background);\n",
       "}\n",
       "\n",
       "/* Toggleable label */\n",
       "#sk-container-id-2 label.sk-toggleable__label {\n",
       "  cursor: pointer;\n",
       "  display: block;\n",
       "  width: 100%;\n",
       "  margin-bottom: 0;\n",
       "  padding: 0.5em;\n",
       "  box-sizing: border-box;\n",
       "  text-align: center;\n",
       "}\n",
       "\n",
       "#sk-container-id-2 label.sk-toggleable__label-arrow:before {\n",
       "  /* Arrow on the left of the label */\n",
       "  content: \"▸\";\n",
       "  float: left;\n",
       "  margin-right: 0.25em;\n",
       "  color: var(--sklearn-color-icon);\n",
       "}\n",
       "\n",
       "#sk-container-id-2 label.sk-toggleable__label-arrow:hover:before {\n",
       "  color: var(--sklearn-color-text);\n",
       "}\n",
       "\n",
       "/* Toggleable content - dropdown */\n",
       "\n",
       "#sk-container-id-2 div.sk-toggleable__content {\n",
       "  max-height: 0;\n",
       "  max-width: 0;\n",
       "  overflow: hidden;\n",
       "  text-align: left;\n",
       "  /* unfitted */\n",
       "  background-color: var(--sklearn-color-unfitted-level-0);\n",
       "}\n",
       "\n",
       "#sk-container-id-2 div.sk-toggleable__content.fitted {\n",
       "  /* fitted */\n",
       "  background-color: var(--sklearn-color-fitted-level-0);\n",
       "}\n",
       "\n",
       "#sk-container-id-2 div.sk-toggleable__content pre {\n",
       "  margin: 0.2em;\n",
       "  border-radius: 0.25em;\n",
       "  color: var(--sklearn-color-text);\n",
       "  /* unfitted */\n",
       "  background-color: var(--sklearn-color-unfitted-level-0);\n",
       "}\n",
       "\n",
       "#sk-container-id-2 div.sk-toggleable__content.fitted pre {\n",
       "  /* unfitted */\n",
       "  background-color: var(--sklearn-color-fitted-level-0);\n",
       "}\n",
       "\n",
       "#sk-container-id-2 input.sk-toggleable__control:checked~div.sk-toggleable__content {\n",
       "  /* Expand drop-down */\n",
       "  max-height: 200px;\n",
       "  max-width: 100%;\n",
       "  overflow: auto;\n",
       "}\n",
       "\n",
       "#sk-container-id-2 input.sk-toggleable__control:checked~label.sk-toggleable__label-arrow:before {\n",
       "  content: \"▾\";\n",
       "}\n",
       "\n",
       "/* Pipeline/ColumnTransformer-specific style */\n",
       "\n",
       "#sk-container-id-2 div.sk-label input.sk-toggleable__control:checked~label.sk-toggleable__label {\n",
       "  color: var(--sklearn-color-text);\n",
       "  background-color: var(--sklearn-color-unfitted-level-2);\n",
       "}\n",
       "\n",
       "#sk-container-id-2 div.sk-label.fitted input.sk-toggleable__control:checked~label.sk-toggleable__label {\n",
       "  background-color: var(--sklearn-color-fitted-level-2);\n",
       "}\n",
       "\n",
       "/* Estimator-specific style */\n",
       "\n",
       "/* Colorize estimator box */\n",
       "#sk-container-id-2 div.sk-estimator input.sk-toggleable__control:checked~label.sk-toggleable__label {\n",
       "  /* unfitted */\n",
       "  background-color: var(--sklearn-color-unfitted-level-2);\n",
       "}\n",
       "\n",
       "#sk-container-id-2 div.sk-estimator.fitted input.sk-toggleable__control:checked~label.sk-toggleable__label {\n",
       "  /* fitted */\n",
       "  background-color: var(--sklearn-color-fitted-level-2);\n",
       "}\n",
       "\n",
       "#sk-container-id-2 div.sk-label label.sk-toggleable__label,\n",
       "#sk-container-id-2 div.sk-label label {\n",
       "  /* The background is the default theme color */\n",
       "  color: var(--sklearn-color-text-on-default-background);\n",
       "}\n",
       "\n",
       "/* On hover, darken the color of the background */\n",
       "#sk-container-id-2 div.sk-label:hover label.sk-toggleable__label {\n",
       "  color: var(--sklearn-color-text);\n",
       "  background-color: var(--sklearn-color-unfitted-level-2);\n",
       "}\n",
       "\n",
       "/* Label box, darken color on hover, fitted */\n",
       "#sk-container-id-2 div.sk-label.fitted:hover label.sk-toggleable__label.fitted {\n",
       "  color: var(--sklearn-color-text);\n",
       "  background-color: var(--sklearn-color-fitted-level-2);\n",
       "}\n",
       "\n",
       "/* Estimator label */\n",
       "\n",
       "#sk-container-id-2 div.sk-label label {\n",
       "  font-family: monospace;\n",
       "  font-weight: bold;\n",
       "  display: inline-block;\n",
       "  line-height: 1.2em;\n",
       "}\n",
       "\n",
       "#sk-container-id-2 div.sk-label-container {\n",
       "  text-align: center;\n",
       "}\n",
       "\n",
       "/* Estimator-specific */\n",
       "#sk-container-id-2 div.sk-estimator {\n",
       "  font-family: monospace;\n",
       "  border: 1px dotted var(--sklearn-color-border-box);\n",
       "  border-radius: 0.25em;\n",
       "  box-sizing: border-box;\n",
       "  margin-bottom: 0.5em;\n",
       "  /* unfitted */\n",
       "  background-color: var(--sklearn-color-unfitted-level-0);\n",
       "}\n",
       "\n",
       "#sk-container-id-2 div.sk-estimator.fitted {\n",
       "  /* fitted */\n",
       "  background-color: var(--sklearn-color-fitted-level-0);\n",
       "}\n",
       "\n",
       "/* on hover */\n",
       "#sk-container-id-2 div.sk-estimator:hover {\n",
       "  /* unfitted */\n",
       "  background-color: var(--sklearn-color-unfitted-level-2);\n",
       "}\n",
       "\n",
       "#sk-container-id-2 div.sk-estimator.fitted:hover {\n",
       "  /* fitted */\n",
       "  background-color: var(--sklearn-color-fitted-level-2);\n",
       "}\n",
       "\n",
       "/* Specification for estimator info (e.g. \"i\" and \"?\") */\n",
       "\n",
       "/* Common style for \"i\" and \"?\" */\n",
       "\n",
       ".sk-estimator-doc-link,\n",
       "a:link.sk-estimator-doc-link,\n",
       "a:visited.sk-estimator-doc-link {\n",
       "  float: right;\n",
       "  font-size: smaller;\n",
       "  line-height: 1em;\n",
       "  font-family: monospace;\n",
       "  background-color: var(--sklearn-color-background);\n",
       "  border-radius: 1em;\n",
       "  height: 1em;\n",
       "  width: 1em;\n",
       "  text-decoration: none !important;\n",
       "  margin-left: 1ex;\n",
       "  /* unfitted */\n",
       "  border: var(--sklearn-color-unfitted-level-1) 1pt solid;\n",
       "  color: var(--sklearn-color-unfitted-level-1);\n",
       "}\n",
       "\n",
       ".sk-estimator-doc-link.fitted,\n",
       "a:link.sk-estimator-doc-link.fitted,\n",
       "a:visited.sk-estimator-doc-link.fitted {\n",
       "  /* fitted */\n",
       "  border: var(--sklearn-color-fitted-level-1) 1pt solid;\n",
       "  color: var(--sklearn-color-fitted-level-1);\n",
       "}\n",
       "\n",
       "/* On hover */\n",
       "div.sk-estimator:hover .sk-estimator-doc-link:hover,\n",
       ".sk-estimator-doc-link:hover,\n",
       "div.sk-label-container:hover .sk-estimator-doc-link:hover,\n",
       ".sk-estimator-doc-link:hover {\n",
       "  /* unfitted */\n",
       "  background-color: var(--sklearn-color-unfitted-level-3);\n",
       "  color: var(--sklearn-color-background);\n",
       "  text-decoration: none;\n",
       "}\n",
       "\n",
       "div.sk-estimator.fitted:hover .sk-estimator-doc-link.fitted:hover,\n",
       ".sk-estimator-doc-link.fitted:hover,\n",
       "div.sk-label-container:hover .sk-estimator-doc-link.fitted:hover,\n",
       ".sk-estimator-doc-link.fitted:hover {\n",
       "  /* fitted */\n",
       "  background-color: var(--sklearn-color-fitted-level-3);\n",
       "  color: var(--sklearn-color-background);\n",
       "  text-decoration: none;\n",
       "}\n",
       "\n",
       "/* Span, style for the box shown on hovering the info icon */\n",
       ".sk-estimator-doc-link span {\n",
       "  display: none;\n",
       "  z-index: 9999;\n",
       "  position: relative;\n",
       "  font-weight: normal;\n",
       "  right: .2ex;\n",
       "  padding: .5ex;\n",
       "  margin: .5ex;\n",
       "  width: min-content;\n",
       "  min-width: 20ex;\n",
       "  max-width: 50ex;\n",
       "  color: var(--sklearn-color-text);\n",
       "  box-shadow: 2pt 2pt 4pt #999;\n",
       "  /* unfitted */\n",
       "  background: var(--sklearn-color-unfitted-level-0);\n",
       "  border: .5pt solid var(--sklearn-color-unfitted-level-3);\n",
       "}\n",
       "\n",
       ".sk-estimator-doc-link.fitted span {\n",
       "  /* fitted */\n",
       "  background: var(--sklearn-color-fitted-level-0);\n",
       "  border: var(--sklearn-color-fitted-level-3);\n",
       "}\n",
       "\n",
       ".sk-estimator-doc-link:hover span {\n",
       "  display: block;\n",
       "}\n",
       "\n",
       "/* \"?\"-specific style due to the `<a>` HTML tag */\n",
       "\n",
       "#sk-container-id-2 a.estimator_doc_link {\n",
       "  float: right;\n",
       "  font-size: 1rem;\n",
       "  line-height: 1em;\n",
       "  font-family: monospace;\n",
       "  background-color: var(--sklearn-color-background);\n",
       "  border-radius: 1rem;\n",
       "  height: 1rem;\n",
       "  width: 1rem;\n",
       "  text-decoration: none;\n",
       "  /* unfitted */\n",
       "  color: var(--sklearn-color-unfitted-level-1);\n",
       "  border: var(--sklearn-color-unfitted-level-1) 1pt solid;\n",
       "}\n",
       "\n",
       "#sk-container-id-2 a.estimator_doc_link.fitted {\n",
       "  /* fitted */\n",
       "  border: var(--sklearn-color-fitted-level-1) 1pt solid;\n",
       "  color: var(--sklearn-color-fitted-level-1);\n",
       "}\n",
       "\n",
       "/* On hover */\n",
       "#sk-container-id-2 a.estimator_doc_link:hover {\n",
       "  /* unfitted */\n",
       "  background-color: var(--sklearn-color-unfitted-level-3);\n",
       "  color: var(--sklearn-color-background);\n",
       "  text-decoration: none;\n",
       "}\n",
       "\n",
       "#sk-container-id-2 a.estimator_doc_link.fitted:hover {\n",
       "  /* fitted */\n",
       "  background-color: var(--sklearn-color-fitted-level-3);\n",
       "}\n",
       "</style><div id=\"sk-container-id-2\" class=\"sk-top-container\"><div class=\"sk-text-repr-fallback\"><pre>LinearRegression()</pre><b>In a Jupyter environment, please rerun this cell to show the HTML representation or trust the notebook. <br />On GitHub, the HTML representation is unable to render, please try loading this page with nbviewer.org.</b></div><div class=\"sk-container\" hidden><div class=\"sk-item\"><div class=\"sk-estimator fitted sk-toggleable\"><input class=\"sk-toggleable__control sk-hidden--visually\" id=\"sk-estimator-id-2\" type=\"checkbox\" checked><label for=\"sk-estimator-id-2\" class=\"sk-toggleable__label fitted sk-toggleable__label-arrow fitted\">&nbsp;&nbsp;LinearRegression<a class=\"sk-estimator-doc-link fitted\" rel=\"noreferrer\" target=\"_blank\" href=\"https://scikit-learn.org/1.5/modules/generated/sklearn.linear_model.LinearRegression.html\">?<span>Documentation for LinearRegression</span></a><span class=\"sk-estimator-doc-link fitted\">i<span>Fitted</span></span></label><div class=\"sk-toggleable__content fitted\"><pre>LinearRegression()</pre></div> </div></div></div></div>"
      ],
      "text/plain": [
       "LinearRegression()"
      ]
     },
     "execution_count": 277,
     "metadata": {},
     "output_type": "execute_result"
    }
   ],
   "source": [
    "from sklearn.linear_model import LinearRegression\n",
    "lr_pp=LinearRegression()\n",
    "\n",
    "lr_pp.fit(train_pp_x,train_pp_y)"
   ]
  },
  {
   "cell_type": "code",
   "execution_count": 279,
   "id": "bdbef6e4-b595-403d-b939-f245be7d412f",
   "metadata": {},
   "outputs": [
    {
     "data": {
      "text/plain": [
       "0.8477459377942554"
      ]
     },
     "execution_count": 279,
     "metadata": {},
     "output_type": "execute_result"
    }
   ],
   "source": [
    "r_square=lr_pp.score(train_pp_x,train_pp_y)\n",
    "r_square"
   ]
  },
  {
   "cell_type": "code",
   "execution_count": 281,
   "id": "1abeeb8d-9cca-47ca-906c-bc801bb730ea",
   "metadata": {},
   "outputs": [
    {
     "data": {
      "text/plain": [
       "0.8370793864113194"
      ]
     },
     "execution_count": 281,
     "metadata": {},
     "output_type": "execute_result"
    }
   ],
   "source": [
    "N=train_pp_x.shape[0]\n",
    "K=train_pp_x.shape[1]\n",
    "Adj_Rsqu=1-(1-r_square) *(N-1)/(N-K-1)\n",
    "Adj_Rsqu"
   ]
  },
  {
   "cell_type": "code",
   "execution_count": null,
   "id": "e9c04cc5-faad-4547-87f3-209aa012465e",
   "metadata": {},
   "outputs": [],
   "source": []
  },
  {
   "cell_type": "code",
   "execution_count": 284,
   "id": "61468c6d-a869-4fe2-b70d-f850c6a55e65",
   "metadata": {},
   "outputs": [],
   "source": [
    "pred_train_pp=lr_pp.predict(train_pp_x)\n",
    "pred_test_pp=lr_pp.predict(test_pp_x)\n"
   ]
  },
  {
   "cell_type": "code",
   "execution_count": 286,
   "id": "e1d0184c-82e0-420e-8291-747ed472551f",
   "metadata": {},
   "outputs": [],
   "source": [
    "err_train=train_pp_y-pred_train_pp\n",
    "\n",
    "err_test=test_pp_y-pred_test_pp"
   ]
  },
  {
   "cell_type": "code",
   "execution_count": 288,
   "id": "7fddd31c-e04f-4655-a209-1023e8ad2ae3",
   "metadata": {},
   "outputs": [
    {
     "data": {
      "text/plain": [
       "2.881174900412132e-10"
      ]
     },
     "execution_count": 288,
     "metadata": {},
     "output_type": "execute_result"
    }
   ],
   "source": [
    "err_train.mean()"
   ]
  },
  {
   "cell_type": "code",
   "execution_count": 290,
   "id": "d001ab8f-bbaf-4e69-a48c-01c1530d5a0e",
   "metadata": {},
   "outputs": [
    {
     "data": {
      "text/plain": [
       "-1.3389613984907427"
      ]
     },
     "execution_count": 290,
     "metadata": {},
     "output_type": "execute_result"
    }
   ],
   "source": [
    "err_train.skew()"
   ]
  },
  {
   "cell_type": "code",
   "execution_count": 292,
   "id": "39ad4fe7-84de-4368-a867-b7069123a856",
   "metadata": {},
   "outputs": [
    {
     "data": {
      "text/plain": [
       "17.115787625666588"
      ]
     },
     "execution_count": 292,
     "metadata": {},
     "output_type": "execute_result"
    }
   ],
   "source": [
    "err_train.kurtosis()+3"
   ]
  },
  {
   "cell_type": "code",
   "execution_count": 294,
   "id": "b964b147-496c-4bf0-b88c-9c26258ae35b",
   "metadata": {},
   "outputs": [],
   "source": [
    "import matplotlib.pyplot as plt\n",
    "import seaborn as sns"
   ]
  },
  {
   "cell_type": "code",
   "execution_count": 296,
   "id": "19b62557-c904-4299-8ad5-07777d08c698",
   "metadata": {},
   "outputs": [
    {
     "data": {
      "image/png": "[encoded data removed]",
      "text/plain": [
       "<Figure size 640x480 with 1 Axes>"
      ]
     },
     "metadata": {},
     "output_type": "display_data"
    }
   ],
   "source": [
    "plt.hist(err_train,bins=30,edgecolor='red');\n",
    "# As we can see there is sudden rise in the values so it is not normally distributed "
   ]
  },
  {
   "cell_type": "code",
   "execution_count": 298,
   "id": "75721e00-2b82-4954-97da-375c33c32bf3",
   "metadata": {},
   "outputs": [
    {
     "data": {
      "text/plain": [
       "<matplotlib.lines.Line2D at 0x1bac3675430>"
      ]
     },
     "execution_count": 298,
     "metadata": {},
     "output_type": "execute_result"
    },
    {
     "data": {
      "image/png": "[encoded data removed]",
      "text/plain": [
       "<Figure size 640x480 with 1 Axes>"
      ]
     },
     "metadata": {},
     "output_type": "display_data"
    }
   ],
   "source": [
    "plt.plot(err_train,'*')\n",
    "plt.axhline(y=0,color='red')"
   ]
  },
  {
   "cell_type": "code",
   "execution_count": 300,
   "id": "22642a71-7e88-4602-ba02-97b8377481aa",
   "metadata": {},
   "outputs": [
    {
     "data": {
      "text/plain": [
       "<Axes: ylabel='Sale_Price'>"
      ]
     },
     "execution_count": 300,
     "metadata": {},
     "output_type": "execute_result"
    },
    {
     "data": {
      "image/png": "[encoded data removed]",
      "text/plain": [
       "<Figure size 640x480 with 1 Axes>"
      ]
     },
     "metadata": {},
     "output_type": "display_data"
    }
   ],
   "source": [
    "sns.boxplot(err_train)  #there are large errors"
   ]
  },
  {
   "cell_type": "code",
   "execution_count": 302,
   "id": "2bbd026b-273a-499a-a6b3-ce4f50090c23",
   "metadata": {},
   "outputs": [],
   "source": [
    "actual_pred_train=pd.DataFrame()\n",
    "actual_pred_train['Actual']=train_pp_y\n",
    "actual_pred_train['Pred']=pred_train_pp"
   ]
  },
  {
   "cell_type": "code",
   "execution_count": 304,
   "id": "cf7c44a5-d914-4eb9-94f8-e29c777925b3",
   "metadata": {},
   "outputs": [
    {
     "data": {
      "text/plain": [
       "<Axes: xlabel='Actual', ylabel='Pred'>"
      ]
     },
     "execution_count": 304,
     "metadata": {},
     "output_type": "execute_result"
    },
    {
     "data": {
      "image/png": "[encoded data removed]",
      "text/plain": [
       "<Figure size 640x480 with 1 Axes>"
      ]
     },
     "metadata": {},
     "output_type": "display_data"
    }
   ],
   "source": [
    "sns.regplot(x='Actual',y='Pred',data=actual_pred_train)  \n",
    "#there are many large errors --->that will impact the model\n",
    "#cone pattern "
   ]
  },
  {
   "cell_type": "code",
   "execution_count": 306,
   "id": "c6d3e664-37ab-4ccb-a69c-eafa6ad5dafe",
   "metadata": {},
   "outputs": [],
   "source": [
    "from sklearn.metrics import mean_absolute_percentage_error,mean_absolute_error ,mean_squared_error\n"
   ]
  },
  {
   "cell_type": "code",
   "execution_count": 308,
   "id": "5f536deb-f1cc-4b73-bbf7-04ccfb8a94f8",
   "metadata": {},
   "outputs": [
    {
     "data": {
      "text/plain": [
       "516375334.09729356"
      ]
     },
     "execution_count": 308,
     "metadata": {},
     "output_type": "execute_result"
    }
   ],
   "source": [
    "mean_squared_error(actual_pred_train['Actual'],actual_pred_train['Pred'])"
   ]
  },
  {
   "cell_type": "code",
   "execution_count": 310,
   "id": "ea32eb7e-ae7d-436a-8e00-8b603f4eb6bb",
   "metadata": {},
   "outputs": [
    {
     "data": {
      "text/plain": [
       "15904.322827615879"
      ]
     },
     "execution_count": 310,
     "metadata": {},
     "output_type": "execute_result"
    }
   ],
   "source": [
    "mean_absolute_error(actual_pred_train['Actual'],actual_pred_train['Pred'])"
   ]
  },
  {
   "cell_type": "code",
   "execution_count": 312,
   "id": "380c0b80-4715-4ef3-bcab-f8699d9334a9",
   "metadata": {},
   "outputs": [
    {
     "data": {
      "text/plain": [
       "0.10056252451989192"
      ]
     },
     "execution_count": 312,
     "metadata": {},
     "output_type": "execute_result"
    }
   ],
   "source": [
    "mean_absolute_percentage_error(actual_pred_train['Actual'],actual_pred_train['Pred'])"
   ]
  },
  {
   "cell_type": "code",
   "execution_count": 314,
   "id": "1c3e7432-7566-46dc-9b8f-84b83729be4f",
   "metadata": {},
   "outputs": [
    {
     "name": "stdout",
     "output_type": "stream",
     "text": [
      "mse train is  516375334.09729356\n",
      "mse test is  506276539.6788034\n"
     ]
    }
   ],
   "source": [
    "import numpy as np\n",
    "mse_test=np.mean(np.square(err_test))\n",
    "mse_train=np.mean(np.square(err_train))\n",
    "print(\"mse train is \",mse_train)\n",
    "print(\"mse test is \",mse_test)"
   ]
  },
  {
   "cell_type": "code",
   "execution_count": 316,
   "id": "4edbdd43-c16b-42bc-8495-94ac3898ea5f",
   "metadata": {},
   "outputs": [
    {
     "name": "stdout",
     "output_type": "stream",
     "text": [
      "rmse test is  22500.589762910735\n",
      "rmse train is  22723.89346254936\n"
     ]
    }
   ],
   "source": [
    "rmse_test=np.sqrt(mse_test)\n",
    "rmse_train=np.sqrt(mse_train)\n",
    "print(\"rmse test is \",rmse_test)\n",
    "print(\"rmse train is \",rmse_train)"
   ]
  },
  {
   "cell_type": "code",
   "execution_count": 318,
   "id": "8e8c2907-8686-4aab-b32a-274ba00ddeeb",
   "metadata": {},
   "outputs": [
    {
     "name": "stdout",
     "output_type": "stream",
     "text": [
      "MAPE train is  10.056252451989192\n",
      "MAPE test is  9.91035022019369\n"
     ]
    }
   ],
   "source": [
    "mape_train=np.mean(np.abs(err_train*100/train_pp_y))\n",
    "mape_test=np.mean(np.abs(err_test*100/test_pp_y))\n",
    "print(\"MAPE train is \",mape_train)\n",
    "print(\"MAPE test is \",mape_test)"
   ]
  },
  {
   "cell_type": "code",
   "execution_count": 320,
   "id": "23b5bace-4685-40de-ae03-a268c7f5e133",
   "metadata": {},
   "outputs": [],
   "source": [
    "#removing outliers \n",
    "\n",
    "def remove_outliers(df,col,k):\n",
    "    mean=df[col].mean()\n",
    "    global df1\n",
    "    sd = df[col].std()\n",
    "    final_list=[x for x in df[col] if (x>mean-k*sd)]\n",
    "    final_list=[x for x in final_list if (x<mean+k*sd)]\n",
    "    df1=df.loc[df[col].isin(final_list)]; print(df1.shape)\n",
    "    print(\"Number of outliers removed-->\",df.shape[0]-df1.shape[0])"
   ]
  },
  {
   "cell_type": "code",
   "execution_count": 322,
   "id": "49574a6f-5c70-4517-8324-497b079cb077",
   "metadata": {},
   "outputs": [
    {
     "name": "stdout",
     "output_type": "stream",
     "text": [
      "(1326, 74)\n",
      "Number of outliers removed--> 70\n"
     ]
    }
   ],
   "source": [
    "remove_outliers(pp,'Sale_Price',2)   # added  a new line after data cleaning and before sampling pp=df1\n",
    "# we can see the changes in mape , mse etc"
   ]
  },
  {
   "cell_type": "code",
   "execution_count": null,
   "id": "27d6bd89-820f-4e8c-a714-296b0deafb72",
   "metadata": {},
   "outputs": [],
   "source": []
  },
  {
   "cell_type": "code",
   "execution_count": null,
   "id": "c0a2fa1f-8d10-48bc-9cab-ad984f419e5c",
   "metadata": {},
   "outputs": [],
   "source": []
  },
  {
   "cell_type": "code",
   "execution_count": null,
   "id": "278a1440-83fc-4a88-bad6-662e4c514ac8",
   "metadata": {},
   "outputs": [],
   "source": []
  },
  {
   "cell_type": "code",
   "execution_count": null,
   "id": "e5853957-a768-4c10-81b1-61331e189105",
   "metadata": {},
   "outputs": [],
   "source": []
  }
 ],
 "metadata": {
  "kernelspec": {
   "display_name": "Python 3 (ipykernel)",
   "language": "python",
   "name": "python3"
  },
  "language_info": {
   "codemirror_mode": {
    "name": "ipython",
    "version": 3
   },
   "file_extension": ".py",
   "mimetype": "text/x-python",
   "name": "python",
   "nbconvert_exporter": "python",
   "pygments_lexer": "ipython3",
   "version": "3.12.7"
  }
 },
 "nbformat": 4,
 "nbformat_minor": 5
}
