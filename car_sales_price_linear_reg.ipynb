{
 "cells": [
  {
   "cell_type": "markdown",
   "id": "8f807441-3ac5-4811-9026-2770bd7d020a",
   "metadata": {},
   "source": [
    "# Car Sales Price model building"
   ]
  },
  {
   "cell_type": "code",
   "execution_count": 2,
   "id": "6df31c93-8268-471c-b6b2-a8dc5d53b22d",
   "metadata": {},
   "outputs": [],
   "source": [
    "import pandas  as pd\n",
    "import numpy as np\n",
    "\n",
    "import warnings\n",
    "warnings.filterwarnings('ignore')"
   ]
  },
  {
   "cell_type": "code",
   "execution_count": 4,
   "id": "8640a1ad-19d1-4080-a74d-e561df896c65",
   "metadata": {},
   "outputs": [
    {
     "data": {
      "text/html": [
       "<div>\n",
       "<style scoped>\n",
       "    .dataframe tbody tr th:only-of-type {\n",
       "        vertical-align: middle;\n",
       "    }\n",
       "\n",
       "    .dataframe tbody tr th {\n",
       "        vertical-align: top;\n",
       "    }\n",
       "\n",
       "    .dataframe thead th {\n",
       "        text-align: right;\n",
       "    }\n",
       "</style>\n",
       "<table border=\"1\" class=\"dataframe\">\n",
       "  <thead>\n",
       "    <tr style=\"text-align: right;\">\n",
       "      <th></th>\n",
       "      <th>symboling</th>\n",
       "      <th>normalized_losses</th>\n",
       "      <th>Fuel_type</th>\n",
       "      <th>make</th>\n",
       "      <th>num_of_doors</th>\n",
       "      <th>aspiration</th>\n",
       "      <th>wheel_base</th>\n",
       "      <th>engine_location</th>\n",
       "      <th>drive_wheels</th>\n",
       "      <th>body_style</th>\n",
       "      <th>...</th>\n",
       "      <th>engine_size</th>\n",
       "      <th>fuel_system</th>\n",
       "      <th>bore</th>\n",
       "      <th>stroke</th>\n",
       "      <th>compression_ratio</th>\n",
       "      <th>horsepower</th>\n",
       "      <th>peak_rpm</th>\n",
       "      <th>city_mpg</th>\n",
       "      <th>highway_mpg</th>\n",
       "      <th>price</th>\n",
       "    </tr>\n",
       "  </thead>\n",
       "  <tbody>\n",
       "    <tr>\n",
       "      <th>0</th>\n",
       "      <td>3</td>\n",
       "      <td>?</td>\n",
       "      <td>gas</td>\n",
       "      <td>std</td>\n",
       "      <td>two</td>\n",
       "      <td>convertible</td>\n",
       "      <td>rwd</td>\n",
       "      <td>front</td>\n",
       "      <td>88.6</td>\n",
       "      <td>alfa-romero</td>\n",
       "      <td>...</td>\n",
       "      <td>130</td>\n",
       "      <td>mpfi</td>\n",
       "      <td>3.47</td>\n",
       "      <td>2.68</td>\n",
       "      <td>9.0</td>\n",
       "      <td>111</td>\n",
       "      <td>5000</td>\n",
       "      <td>21</td>\n",
       "      <td>27</td>\n",
       "      <td>13495</td>\n",
       "    </tr>\n",
       "    <tr>\n",
       "      <th>1</th>\n",
       "      <td>3</td>\n",
       "      <td>?</td>\n",
       "      <td>gas</td>\n",
       "      <td>std</td>\n",
       "      <td>two</td>\n",
       "      <td>convertible</td>\n",
       "      <td>rwd</td>\n",
       "      <td>front</td>\n",
       "      <td>88.6</td>\n",
       "      <td>alfa-romero</td>\n",
       "      <td>...</td>\n",
       "      <td>130</td>\n",
       "      <td>mpfi</td>\n",
       "      <td>3.47</td>\n",
       "      <td>2.68</td>\n",
       "      <td>9.0</td>\n",
       "      <td>111</td>\n",
       "      <td>5000</td>\n",
       "      <td>21</td>\n",
       "      <td>27</td>\n",
       "      <td>16500</td>\n",
       "    </tr>\n",
       "    <tr>\n",
       "      <th>2</th>\n",
       "      <td>1</td>\n",
       "      <td>?</td>\n",
       "      <td>gas</td>\n",
       "      <td>std</td>\n",
       "      <td>two</td>\n",
       "      <td>hatchback</td>\n",
       "      <td>rwd</td>\n",
       "      <td>front</td>\n",
       "      <td>94.5</td>\n",
       "      <td>alfa-romero</td>\n",
       "      <td>...</td>\n",
       "      <td>152</td>\n",
       "      <td>mpfi</td>\n",
       "      <td>2.68</td>\n",
       "      <td>3.47</td>\n",
       "      <td>9.0</td>\n",
       "      <td>154</td>\n",
       "      <td>5000</td>\n",
       "      <td>19</td>\n",
       "      <td>26</td>\n",
       "      <td>16500</td>\n",
       "    </tr>\n",
       "    <tr>\n",
       "      <th>3</th>\n",
       "      <td>2</td>\n",
       "      <td>164</td>\n",
       "      <td>gas</td>\n",
       "      <td>std</td>\n",
       "      <td>four</td>\n",
       "      <td>sedan</td>\n",
       "      <td>fwd</td>\n",
       "      <td>front</td>\n",
       "      <td>99.8</td>\n",
       "      <td>audi</td>\n",
       "      <td>...</td>\n",
       "      <td>109</td>\n",
       "      <td>mpfi</td>\n",
       "      <td>3.19</td>\n",
       "      <td>3.4</td>\n",
       "      <td>10.0</td>\n",
       "      <td>102</td>\n",
       "      <td>5500</td>\n",
       "      <td>24</td>\n",
       "      <td>30</td>\n",
       "      <td>13950</td>\n",
       "    </tr>\n",
       "    <tr>\n",
       "      <th>4</th>\n",
       "      <td>2</td>\n",
       "      <td>164</td>\n",
       "      <td>gas</td>\n",
       "      <td>std</td>\n",
       "      <td>four</td>\n",
       "      <td>sedan</td>\n",
       "      <td>4wd</td>\n",
       "      <td>front</td>\n",
       "      <td>99.4</td>\n",
       "      <td>audi</td>\n",
       "      <td>...</td>\n",
       "      <td>136</td>\n",
       "      <td>mpfi</td>\n",
       "      <td>3.19</td>\n",
       "      <td>3.4</td>\n",
       "      <td>8.0</td>\n",
       "      <td>115</td>\n",
       "      <td>5500</td>\n",
       "      <td>18</td>\n",
       "      <td>22</td>\n",
       "      <td>17450</td>\n",
       "    </tr>\n",
       "  </tbody>\n",
       "</table>\n",
       "<p>5 rows × 26 columns</p>\n",
       "</div>"
      ],
      "text/plain": [
       "   symboling normalized_losses Fuel_type make num_of_doors   aspiration  \\\n",
       "0          3                 ?       gas  std          two  convertible   \n",
       "1          3                 ?       gas  std          two  convertible   \n",
       "2          1                 ?       gas  std          two    hatchback   \n",
       "3          2               164       gas  std         four        sedan   \n",
       "4          2               164       gas  std         four        sedan   \n",
       "\n",
       "  wheel_base engine_location  drive_wheels   body_style  ...  engine_size  \\\n",
       "0        rwd           front          88.6  alfa-romero  ...          130   \n",
       "1        rwd           front          88.6  alfa-romero  ...          130   \n",
       "2        rwd           front          94.5  alfa-romero  ...          152   \n",
       "3        fwd           front          99.8         audi  ...          109   \n",
       "4        4wd           front          99.4         audi  ...          136   \n",
       "\n",
       "   fuel_system  bore  stroke compression_ratio horsepower  peak_rpm city_mpg  \\\n",
       "0         mpfi  3.47    2.68               9.0        111      5000       21   \n",
       "1         mpfi  3.47    2.68               9.0        111      5000       21   \n",
       "2         mpfi  2.68    3.47               9.0        154      5000       19   \n",
       "3         mpfi  3.19     3.4              10.0        102      5500       24   \n",
       "4         mpfi  3.19     3.4               8.0        115      5500       18   \n",
       "\n",
       "  highway_mpg  price  \n",
       "0          27  13495  \n",
       "1          27  16500  \n",
       "2          26  16500  \n",
       "3          30  13950  \n",
       "4          22  17450  \n",
       "\n",
       "[5 rows x 26 columns]"
      ]
     },
     "execution_count": 4,
     "metadata": {},
     "output_type": "execute_result"
    }
   ],
   "source": [
    "cp=pd.read_csv(r\"C:\\Users\\SARTHAK JAGADALE\\OneDrive\\Desktop\\pandas\\car_price.csv\")\n",
    "cp.head()"
   ]
  },
  {
   "cell_type": "code",
   "execution_count": 6,
   "id": "36333e97-05af-408a-9d7a-25df0c5b1f16",
   "metadata": {},
   "outputs": [
    {
     "data": {
      "text/plain": [
       "Series([], dtype: int64)"
      ]
     },
     "execution_count": 6,
     "metadata": {},
     "output_type": "execute_result"
    }
   ],
   "source": [
    "cp.isnull().sum()[cp.isnull().sum()>0]"
   ]
  },
  {
   "cell_type": "code",
   "execution_count": 8,
   "id": "836a75c2-d21d-4feb-bb9e-aac4b8850c28",
   "metadata": {},
   "outputs": [],
   "source": [
    "cp=cp.replace({'?':np.nan})"
   ]
  },
  {
   "cell_type": "code",
   "execution_count": 10,
   "id": "68ccf6df-1fe2-499e-b76a-3aadc84fa17b",
   "metadata": {},
   "outputs": [
    {
     "data": {
      "text/plain": [
       "normalized_losses    41\n",
       "num_of_doors          2\n",
       "bore                  4\n",
       "stroke                4\n",
       "horsepower            2\n",
       "peak_rpm              2\n",
       "price                 4\n",
       "dtype: int64"
      ]
     },
     "execution_count": 10,
     "metadata": {},
     "output_type": "execute_result"
    }
   ],
   "source": [
    "cp.isnull().sum()[cp.isnull().sum()>0]"
   ]
  },
  {
   "cell_type": "code",
   "execution_count": 12,
   "id": "cfb650b7-12bd-4c1a-a267-facf1460fcc3",
   "metadata": {},
   "outputs": [],
   "source": [
    "cp = cp.astype({\"normalized_losses\":\"float\",'bore':'float','stroke':'float','horsepower':'float','peak_rpm':'float','price':'float'})\n"
   ]
  },
  {
   "cell_type": "code",
   "execution_count": 14,
   "id": "dd38915a-d139-4b1d-b550-1c464c5d9b98",
   "metadata": {},
   "outputs": [],
   "source": [
    "cp.normalized_losses.fillna(cp.normalized_losses.mean(),inplace=True)\n",
    "cp.num_of_doors.fillna('four',inplace=True)\n",
    "cp.bore.fillna(cp.bore.mean(),inplace=True)\n",
    "cp.stroke.fillna(cp.stroke.mean(),inplace=True)\n",
    "cp.horsepower.fillna(cp.horsepower.mean(),inplace=True)\n",
    "cp.peak_rpm.fillna(cp.peak_rpm.mean(),inplace=True)\n",
    "cp.price.fillna(cp.price.mean(),inplace=True)"
   ]
  },
  {
   "cell_type": "code",
   "execution_count": 16,
   "id": "4e10ac6d-0c00-49d2-849c-81bd180e5833",
   "metadata": {},
   "outputs": [
    {
     "data": {
      "text/plain": [
       "Index(['Fuel_type', 'make', 'num_of_doors', 'aspiration', 'wheel_base',\n",
       "       'engine_location', 'body_style', 'engine_type', 'num_of_cylinders',\n",
       "       'fuel_system'],\n",
       "      dtype='object')"
      ]
     },
     "execution_count": 16,
     "metadata": {},
     "output_type": "execute_result"
    }
   ],
   "source": [
    "cp.select_dtypes(include='object').columns"
   ]
  },
  {
   "cell_type": "code",
   "execution_count": 18,
   "id": "2cdb7eea-f991-4b7e-87d2-3b3dcc29a103",
   "metadata": {},
   "outputs": [],
   "source": [
    "from sklearn.preprocessing import LabelEncoder # label encoder covert non numeric to number\n",
    "le=LabelEncoder()"
   ]
  },
  {
   "cell_type": "code",
   "execution_count": 19,
   "id": "d774b9cd-dd4d-4c8d-ad6b-6284d0e2d1a4",
   "metadata": {},
   "outputs": [],
   "source": [
    "cp.normalized_losses = le.fit_transform(cp.normalized_losses)\n",
    "cp.Fuel_type = le.fit_transform(cp.Fuel_type)\n",
    "cp.make = le.fit_transform(cp.make)\n",
    "cp.num_of_doors = le.fit_transform(cp.num_of_doors)\n",
    "cp.aspiration = le.fit_transform(cp.aspiration)\n",
    "cp.wheel_base = le.fit_transform(cp.wheel_base)\n",
    "cp.engine_location = le.fit_transform(cp.engine_location)\n",
    "cp.body_style = le.fit_transform(cp.body_style)\n",
    "cp.engine_type = le.fit_transform(cp.engine_type)\n",
    "cp.num_of_cylinders = le.fit_transform(cp.num_of_cylinders)\n",
    "cp.fuel_system = le.fit_transform(cp.fuel_system)\n",
    "cp.bore = le.fit_transform(cp.bore)\n",
    "cp.stroke = le.fit_transform(cp.stroke)\n",
    "cp.horsepower = le.fit_transform(cp.horsepower)\n",
    "cp.peak_rpm = le.fit_transform(cp.peak_rpm)"
   ]
  },
  {
   "cell_type": "code",
   "execution_count": 22,
   "id": "5f86acd9-9d54-406a-9b61-22127df16408",
   "metadata": {},
   "outputs": [
    {
     "data": {
      "text/plain": [
       "Index([], dtype='object')"
      ]
     },
     "execution_count": 22,
     "metadata": {},
     "output_type": "execute_result"
    }
   ],
   "source": [
    "cp.select_dtypes(include='object').columns"
   ]
  },
  {
   "cell_type": "code",
   "execution_count": 24,
   "id": "eba1ef12-b835-4ba9-9bf0-7a844a69ea65",
   "metadata": {},
   "outputs": [],
   "source": [
    "cp['price']=pd.to_numeric(cp['price'])"
   ]
  },
  {
   "cell_type": "code",
   "execution_count": 26,
   "id": "2e3be20f-c9fe-4cf1-a655-4cf91dee80a2",
   "metadata": {},
   "outputs": [
    {
     "data": {
      "text/html": [
       "<div>\n",
       "<style scoped>\n",
       "    .dataframe tbody tr th:only-of-type {\n",
       "        vertical-align: middle;\n",
       "    }\n",
       "\n",
       "    .dataframe tbody tr th {\n",
       "        vertical-align: top;\n",
       "    }\n",
       "\n",
       "    .dataframe thead th {\n",
       "        text-align: right;\n",
       "    }\n",
       "</style>\n",
       "<table border=\"1\" class=\"dataframe\">\n",
       "  <thead>\n",
       "    <tr style=\"text-align: right;\">\n",
       "      <th></th>\n",
       "      <th>symboling</th>\n",
       "      <th>normalized_losses</th>\n",
       "      <th>Fuel_type</th>\n",
       "      <th>make</th>\n",
       "      <th>num_of_doors</th>\n",
       "      <th>aspiration</th>\n",
       "      <th>wheel_base</th>\n",
       "      <th>engine_location</th>\n",
       "      <th>drive_wheels</th>\n",
       "      <th>body_style</th>\n",
       "      <th>...</th>\n",
       "      <th>engine_size</th>\n",
       "      <th>fuel_system</th>\n",
       "      <th>bore</th>\n",
       "      <th>stroke</th>\n",
       "      <th>compression_ratio</th>\n",
       "      <th>horsepower</th>\n",
       "      <th>peak_rpm</th>\n",
       "      <th>city_mpg</th>\n",
       "      <th>highway_mpg</th>\n",
       "      <th>price</th>\n",
       "    </tr>\n",
       "  </thead>\n",
       "  <tbody>\n",
       "    <tr>\n",
       "      <th>0</th>\n",
       "      <td>3</td>\n",
       "      <td>28</td>\n",
       "      <td>1</td>\n",
       "      <td>0</td>\n",
       "      <td>1</td>\n",
       "      <td>0</td>\n",
       "      <td>2</td>\n",
       "      <td>0</td>\n",
       "      <td>88.6</td>\n",
       "      <td>0</td>\n",
       "      <td>...</td>\n",
       "      <td>130</td>\n",
       "      <td>5</td>\n",
       "      <td>24</td>\n",
       "      <td>4</td>\n",
       "      <td>9.0</td>\n",
       "      <td>31</td>\n",
       "      <td>10</td>\n",
       "      <td>21</td>\n",
       "      <td>27</td>\n",
       "      <td>13495.0</td>\n",
       "    </tr>\n",
       "    <tr>\n",
       "      <th>1</th>\n",
       "      <td>3</td>\n",
       "      <td>28</td>\n",
       "      <td>1</td>\n",
       "      <td>0</td>\n",
       "      <td>1</td>\n",
       "      <td>0</td>\n",
       "      <td>2</td>\n",
       "      <td>0</td>\n",
       "      <td>88.6</td>\n",
       "      <td>0</td>\n",
       "      <td>...</td>\n",
       "      <td>130</td>\n",
       "      <td>5</td>\n",
       "      <td>24</td>\n",
       "      <td>4</td>\n",
       "      <td>9.0</td>\n",
       "      <td>31</td>\n",
       "      <td>10</td>\n",
       "      <td>21</td>\n",
       "      <td>27</td>\n",
       "      <td>16500.0</td>\n",
       "    </tr>\n",
       "    <tr>\n",
       "      <th>2</th>\n",
       "      <td>1</td>\n",
       "      <td>28</td>\n",
       "      <td>1</td>\n",
       "      <td>0</td>\n",
       "      <td>1</td>\n",
       "      <td>2</td>\n",
       "      <td>2</td>\n",
       "      <td>0</td>\n",
       "      <td>94.5</td>\n",
       "      <td>0</td>\n",
       "      <td>...</td>\n",
       "      <td>152</td>\n",
       "      <td>5</td>\n",
       "      <td>1</td>\n",
       "      <td>28</td>\n",
       "      <td>9.0</td>\n",
       "      <td>46</td>\n",
       "      <td>10</td>\n",
       "      <td>19</td>\n",
       "      <td>26</td>\n",
       "      <td>16500.0</td>\n",
       "    </tr>\n",
       "    <tr>\n",
       "      <th>3</th>\n",
       "      <td>2</td>\n",
       "      <td>42</td>\n",
       "      <td>1</td>\n",
       "      <td>0</td>\n",
       "      <td>0</td>\n",
       "      <td>3</td>\n",
       "      <td>1</td>\n",
       "      <td>0</td>\n",
       "      <td>99.8</td>\n",
       "      <td>1</td>\n",
       "      <td>...</td>\n",
       "      <td>109</td>\n",
       "      <td>5</td>\n",
       "      <td>13</td>\n",
       "      <td>25</td>\n",
       "      <td>10.0</td>\n",
       "      <td>27</td>\n",
       "      <td>17</td>\n",
       "      <td>24</td>\n",
       "      <td>30</td>\n",
       "      <td>13950.0</td>\n",
       "    </tr>\n",
       "    <tr>\n",
       "      <th>4</th>\n",
       "      <td>2</td>\n",
       "      <td>42</td>\n",
       "      <td>1</td>\n",
       "      <td>0</td>\n",
       "      <td>0</td>\n",
       "      <td>3</td>\n",
       "      <td>0</td>\n",
       "      <td>0</td>\n",
       "      <td>99.4</td>\n",
       "      <td>1</td>\n",
       "      <td>...</td>\n",
       "      <td>136</td>\n",
       "      <td>5</td>\n",
       "      <td>13</td>\n",
       "      <td>25</td>\n",
       "      <td>8.0</td>\n",
       "      <td>34</td>\n",
       "      <td>17</td>\n",
       "      <td>18</td>\n",
       "      <td>22</td>\n",
       "      <td>17450.0</td>\n",
       "    </tr>\n",
       "  </tbody>\n",
       "</table>\n",
       "<p>5 rows × 26 columns</p>\n",
       "</div>"
      ],
      "text/plain": [
       "   symboling  normalized_losses  Fuel_type  make  num_of_doors  aspiration  \\\n",
       "0          3                 28          1     0             1           0   \n",
       "1          3                 28          1     0             1           0   \n",
       "2          1                 28          1     0             1           2   \n",
       "3          2                 42          1     0             0           3   \n",
       "4          2                 42          1     0             0           3   \n",
       "\n",
       "   wheel_base  engine_location  drive_wheels  body_style  ...  engine_size  \\\n",
       "0           2                0          88.6           0  ...          130   \n",
       "1           2                0          88.6           0  ...          130   \n",
       "2           2                0          94.5           0  ...          152   \n",
       "3           1                0          99.8           1  ...          109   \n",
       "4           0                0          99.4           1  ...          136   \n",
       "\n",
       "   fuel_system  bore  stroke  compression_ratio  horsepower  peak_rpm  \\\n",
       "0            5    24       4                9.0          31        10   \n",
       "1            5    24       4                9.0          31        10   \n",
       "2            5     1      28                9.0          46        10   \n",
       "3            5    13      25               10.0          27        17   \n",
       "4            5    13      25                8.0          34        17   \n",
       "\n",
       "   city_mpg  highway_mpg    price  \n",
       "0        21           27  13495.0  \n",
       "1        21           27  16500.0  \n",
       "2        19           26  16500.0  \n",
       "3        24           30  13950.0  \n",
       "4        18           22  17450.0  \n",
       "\n",
       "[5 rows x 26 columns]"
      ]
     },
     "execution_count": 26,
     "metadata": {},
     "output_type": "execute_result"
    }
   ],
   "source": [
    "cp.head()"
   ]
  },
  {
   "cell_type": "code",
   "execution_count": null,
   "id": "1996aa78-53cd-4a9e-b553-0c49abedee6c",
   "metadata": {},
   "outputs": [],
   "source": [
    "from sklearn.model_selection import train_test_split\n",
    "train_cp,test_cp = train_test_split(cp,test_size=0.2)\n",
    "train_cp.head()"
   ]
  },
  {
   "cell_type": "code",
   "execution_count": null,
   "id": "71e8080f-836a-4598-9228-a002a4d0fc1d",
   "metadata": {},
   "outputs": [],
   "source": [
    "train_cp_x=train_cp.iloc[:,0:-1:]\n",
    "train_cp_y=train_cp.iloc[:,-1]\n",
    "test_cp_x=test_cp.iloc[:,0:-1:]\n",
    "test_cp_y=test_cp.iloc[:,-1]"
   ]
  },
  {
   "cell_type": "code",
   "execution_count": null,
   "id": "55e792e7-3257-4e6d-85f6-27068f1e20e9",
   "metadata": {},
   "outputs": [],
   "source": [
    "from sklearn.linear_model import LinearRegression\n",
    "linreg=LinearRegression()\n",
    "linreg.fit(train_cp_x,train_cp_y)"
   ]
  },
  {
   "cell_type": "code",
   "execution_count": null,
   "id": "9b4926ec-a2e2-4cfa-95dc-69fdae891dba",
   "metadata": {},
   "outputs": [],
   "source": [
    "Rsquare=linreg.score(train_cp_x,train_cp_y)   \n",
    "Rsquare"
   ]
  },
  {
   "cell_type": "code",
   "execution_count": null,
   "id": "f76e5690-5329-46f3-a1c3-209e7f4bedf9",
   "metadata": {},
   "outputs": [],
   "source": [
    "N=train_cp_x.shape[0]\n",
    "K=train_cp_x.shape[1]\n",
    "Adj_Rsqu=1-(1-Rsquare) *(N-1)/(N-K-1)\n",
    "Adj_Rsqu"
   ]
  },
  {
   "cell_type": "code",
   "execution_count": null,
   "id": "b650771a-3f61-4602-aeca-51a093f296e3",
   "metadata": {},
   "outputs": [],
   "source": [
    "pred_train=linreg.predict(train_cp_x)\n",
    "pred_test=linreg.predict(test_cp_x)"
   ]
  },
  {
   "cell_type": "code",
   "execution_count": null,
   "id": "9e543c9b-9f02-495f-b75f-571b1c3c18bf",
   "metadata": {},
   "outputs": [],
   "source": [
    "act_pred=pd.DataFrame()\n",
    "act_pred['Actual']=test_cp_y # if we are making prediction on test then y is your actual value\n",
    "act_pred['Pred']=pred_test"
   ]
  },
  {
   "cell_type": "code",
   "execution_count": null,
   "id": "c0ddd8fb-c68f-4a13-910b-19aa866ce0c3",
   "metadata": {},
   "outputs": [],
   "source": [
    "from sklearn.metrics import mean_absolute_percentage_error,mean_absolute_error ,mean_squared_error\n",
    "train_cp_x"
   ]
  },
  {
   "cell_type": "code",
   "execution_count": null,
   "id": "bd6db940-a995-431c-9515-890b56f6fdfe",
   "metadata": {},
   "outputs": [],
   "source": [
    "mean_squared_error(act_pred['Actual'],act_pred['Pred'])"
   ]
  },
  {
   "cell_type": "code",
   "execution_count": null,
   "id": "16ea3f05-28c3-48fa-b48e-2c476e162c39",
   "metadata": {},
   "outputs": [],
   "source": [
    "mean_absolute_error(act_pred['Actual'],act_pred['Pred'])"
   ]
  },
  {
   "cell_type": "code",
   "execution_count": null,
   "id": "ad85be87-b03a-49ec-a914-cd82768cd629",
   "metadata": {},
   "outputs": [],
   "source": [
    "mean_absolute_percentage_error(act_pred['Actual'],act_pred['Pred'])*100"
   ]
  },
  {
   "cell_type": "code",
   "execution_count": null,
   "id": "722b4377-e8f7-4776-a17d-ac65bc65e267",
   "metadata": {},
   "outputs": [],
   "source": []
  },
  {
   "cell_type": "code",
   "execution_count": null,
   "id": "700de73a-ff69-4a25-8d45-b9360a48a551",
   "metadata": {},
   "outputs": [],
   "source": []
  },
  {
   "cell_type": "code",
   "execution_count": null,
   "id": "ea7cbd7f-2cfc-48d3-a3de-99533e330f63",
   "metadata": {},
   "outputs": [],
   "source": []
  },
  {
   "cell_type": "code",
   "execution_count": null,
   "id": "e5b21b6e-10d3-4e63-b052-fada5a0137ca",
   "metadata": {},
   "outputs": [],
   "source": []
  },
  {
   "cell_type": "code",
   "execution_count": null,
   "id": "5624ef2d-623e-418a-af88-c8095b6a1a41",
   "metadata": {},
   "outputs": [],
   "source": []
  },
  {
   "cell_type": "code",
   "execution_count": null,
   "id": "a9f21a9e-a662-41d3-961a-23140b00ae9a",
   "metadata": {},
   "outputs": [],
   "source": []
  },
  {
   "cell_type": "code",
   "execution_count": null,
   "id": "4361068b-7e22-43a1-a68b-fe3c71d35518",
   "metadata": {},
   "outputs": [],
   "source": []
  },
  {
   "cell_type": "code",
   "execution_count": null,
   "id": "521d4de7-9f1b-45cb-bf1a-44931346e7c4",
   "metadata": {},
   "outputs": [],
   "source": []
  },
  {
   "cell_type": "code",
   "execution_count": null,
   "id": "63a65ef2-3a58-4d22-9375-c4ebdfdca959",
   "metadata": {},
   "outputs": [],
   "source": []
  },
  {
   "cell_type": "code",
   "execution_count": null,
   "id": "dcd4e4f5-f54d-4f45-b9c1-080981b4e601",
   "metadata": {},
   "outputs": [],
   "source": []
  },
  {
   "cell_type": "code",
   "execution_count": null,
   "id": "2811747b-d373-4073-a667-fce32d303b85",
   "metadata": {},
   "outputs": [],
   "source": []
  },
  {
   "cell_type": "code",
   "execution_count": null,
   "id": "3c15a894-6dff-4626-9687-08406c80a89c",
   "metadata": {},
   "outputs": [],
   "source": []
  },
  {
   "cell_type": "code",
   "execution_count": null,
   "id": "c82ea205-a30f-4be3-a5f7-f8e32b220438",
   "metadata": {},
   "outputs": [],
   "source": []
  },
  {
   "cell_type": "code",
   "execution_count": null,
   "id": "fec7fa91-58d1-49a0-ac45-1e08eeefd6f5",
   "metadata": {},
   "outputs": [],
   "source": []
  },
  {
   "cell_type": "code",
   "execution_count": null,
   "id": "667b7c73-6908-4cc1-b321-fb8feae41b3b",
   "metadata": {},
   "outputs": [],
   "source": []
  },
  {
   "cell_type": "code",
   "execution_count": null,
   "id": "2b0973a3-fc58-4139-88e0-955f647e9d36",
   "metadata": {},
   "outputs": [],
   "source": []
  },
  {
   "cell_type": "code",
   "execution_count": null,
   "id": "c54f1f6c-7fad-4e85-b482-027e0ec2fdf8",
   "metadata": {},
   "outputs": [],
   "source": []
  },
  {
   "cell_type": "code",
   "execution_count": null,
   "id": "eb91f3aa-07d2-45c2-a872-0508e5f98f2c",
   "metadata": {},
   "outputs": [],
   "source": []
  },
  {
   "cell_type": "code",
   "execution_count": null,
   "id": "1b4c874f-ad65-41bc-b30d-791d998a85f2",
   "metadata": {},
   "outputs": [],
   "source": []
  }
 ],
 "metadata": {
  "kernelspec": {
   "display_name": "Python 3 (ipykernel)",
   "language": "python",
   "name": "python3"
  },
  "language_info": {
   "codemirror_mode": {
    "name": "ipython",
    "version": 3
   },
   "file_extension": ".py",
   "mimetype": "text/x-python",
   "name": "python",
   "nbconvert_exporter": "python",
   "pygments_lexer": "ipython3",
   "version": "3.12.7"
  }
 },
 "nbformat": 4,
 "nbformat_minor": 5
}
